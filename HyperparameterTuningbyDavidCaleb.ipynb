{
  "nbformat": 4,
  "nbformat_minor": 0,
  "metadata": {
    "colab": {
      "private_outputs": true,
      "provenance": []
    },
    "kernelspec": {
      "name": "python3",
      "display_name": "Python 3"
    },
    "language_info": {
      "name": "python"
    }
  },
  "cells": [
    {
      "cell_type": "code",
      "source": [
        "!pip install scikeras"
      ],
      "metadata": {
        "id": "YhAAXjvgK83P"
      },
      "execution_count": null,
      "outputs": []
    },
    {
      "cell_type": "code",
      "execution_count": null,
      "metadata": {
        "id": "vCSCNs1dHGwM"
      },
      "outputs": [],
      "source": [
        "# Importing necesaries libraries\n",
        "from tensorflow.keras.models import Sequential\n",
        "from tensorflow.keras.layers import Dense, Flatten, Input, Dropout, BatchNormalization\n",
        "from tensorflow.keras.optimizers import Adam\n",
        "from tensorflow.keras.datasets import mnist\n",
        "from tensorflow.keras.utils import normalize\n",
        "\n",
        "from scikeras.wrappers import KerasClassifier\n",
        "from sklearn.model_selection import GridSearchCV"
      ]
    },
    {
      "cell_type": "code",
      "source": [
        "# Loading the MNIST dataset, which contains handwritten digits\n",
        "(X_train, y_train), (X_test, y_test) = mnist.load_data()"
      ],
      "metadata": {
        "id": "7YDA4knFHb9K"
      },
      "execution_count": null,
      "outputs": []
    },
    {
      "cell_type": "code",
      "source": [
        "# Display the first image in the training set (optional)\n",
        "X_train[0]"
      ],
      "metadata": {
        "id": "DHYlq00EHhKi"
      },
      "execution_count": null,
      "outputs": []
    },
    {
      "cell_type": "code",
      "source": [
        "# Normalizing the training and test datasets to have values between 0 and 1\n",
        "X_train = normalize(X_train, axis=1)\n",
        "X_test = normalize(X_test, axis=1)"
      ],
      "metadata": {
        "id": "dPJKDA9aHrXq"
      },
      "execution_count": null,
      "outputs": []
    },
    {
      "cell_type": "code",
      "source": [
        "# Building the neural network model\n",
        "model = Sequential([\n",
        "    # Input layer with the shape of the images\n",
        "    Input(shape=(28, 28)),\n",
        "    # Flattening the 2D input into a 1D vector\n",
        "    Flatten(),\n",
        "    # First hidden layer with 32 neurons and ReLU activation function\n",
        "    Dense(32, activation='relu'),\n",
        "    # Output layer with 10 neurons (one for each class) and softmax activation\n",
        "    Dense(10, activation='softmax'),\n",
        "])\n",
        "\n",
        "# Compiling the model with Adam optimizer,\n",
        "# sparse categorical cross-entropy loss function, and accuracy as the metric\n",
        "model.compile(\n",
        "    optimizer=Adam(learning_rate=0.005),\n",
        "    loss='sparse_categorical_crossentropy',\n",
        "    metrics=['accuracy'],\n",
        ")"
      ],
      "metadata": {
        "id": "_Ih74TwLHy4x"
      },
      "execution_count": null,
      "outputs": []
    },
    {
      "cell_type": "code",
      "source": [
        "# Training the model on the training data for 15 epochs\n",
        "model.fit(X_train, y_train, epochs= 15)"
      ],
      "metadata": {
        "id": "TFpT9rrFIPhn"
      },
      "execution_count": null,
      "outputs": []
    },
    {
      "cell_type": "code",
      "source": [
        "# Evaluating the model on the test dataset\n",
        "model.evaluate(X_test, y_test)"
      ],
      "metadata": {
        "id": "CSKditCOIi__"
      },
      "execution_count": null,
      "outputs": []
    },
    {
      "cell_type": "markdown",
      "source": [
        "# Hyperparameter Tuning"
      ],
      "metadata": {
        "id": "HZ3GI4QSJX-v"
      }
    },
    {
      "cell_type": "code",
      "source": [
        "# Function to build a customizable neural network model\n",
        "def build_model(n_hidden=1, n_neurons=32, learning_rate=0.001, kernel_initializer='he_normal' ,add_dropout=False, add_batch_normalization=False):\n",
        "    # Initialize the sequential model\n",
        "    model = Sequential()\n",
        "    # Add the input layer with the shape of the images\n",
        "    model.add(Input(shape=(28, 28)))\n",
        "    # Flattening the 2D input into a 1D vector\n",
        "    model.add(Flatten())\n",
        "\n",
        "    # Add hidden layers based on the number specified in n_hidden\n",
        "    for layer in range(n_hidden):\n",
        "        # Add Dense layer with n_neurons and specified kernel initializer\n",
        "        model.add(Dense(n_neurons, activation='relu', kernel_initializer=kernel_initializer))\n",
        "        if add_dropout:\n",
        "            model.add(Dropout(0.2))\n",
        "        if add_batch_normalization:\n",
        "            model.add(BatchNormalization())\n",
        "    # Add the output layer with 10 neurons and softmax activation\n",
        "    model.add(Dense(10, activation='softmax'))\n",
        "\n",
        "    # Compile the model using Adam optimizer with the specified learning rate,\n",
        "    # loss function, and metrics\n",
        "    optimizer = Adam(learning_rate=learning_rate)\n",
        "    model.compile(\n",
        "        optimizer=optimizer,\n",
        "        loss='sparse_categorical_crossentropy',\n",
        "        metrics=['accuracy'])\n",
        "    return model"
      ],
      "metadata": {
        "id": "rX891_vmJior"
      },
      "execution_count": null,
      "outputs": []
    },
    {
      "cell_type": "code",
      "source": [
        "# Building a model with 3 hidden layers and 64 neurons in each hidden layer\n",
        "build_model(n_hidden=3, n_neurons=64)"
      ],
      "metadata": {
        "id": "rYfRsr3oKiQX"
      },
      "execution_count": null,
      "outputs": []
    },
    {
      "cell_type": "code",
      "source": [
        "# Wrapping the Keras model with KerasClassifier for compatibility with scikit-learn\n",
        "keras_clf = KerasClassifier(build_model)"
      ],
      "metadata": {
        "id": "LN0GfnE4Kpn3"
      },
      "execution_count": null,
      "outputs": []
    },
    {
      "cell_type": "code",
      "source": [
        "# Training the model on the training data for 15 epochs\n",
        "keras_clf.fit(X_train, y_train, epochs=15)"
      ],
      "metadata": {
        "id": "HIc2I1s0LJxW"
      },
      "execution_count": null,
      "outputs": []
    },
    {
      "cell_type": "code",
      "source": [
        "# Evaluating the model on the test data\n",
        "keras_clf.score(X_test, y_test)"
      ],
      "metadata": {
        "id": "BbZ8TWVOLSXV"
      },
      "execution_count": null,
      "outputs": []
    },
    {
      "cell_type": "code",
      "source": [
        "# Defining the hyperparameter grid for grid search\n",
        "param_grid = {\n",
        "    'model__n_hidden': [3, 4],\n",
        "    'model__n_neurons': [128, 256],\n",
        "    #'model__learning_rate': [0.001, 0.005, 0.01],\n",
        "    #'model__kernel_initializer': ['he_normal', 'glorot_uniform'],\n",
        "    #'model__use_dropout': [True, False],\n",
        "    #'model__use_batch_normalization': [True, False]\n",
        "}\n",
        "\n",
        "# Wrapping the model with KerasClassifier again for use with GridSearchCV\n",
        "keras_clf = KerasClassifier(build_model)\n",
        "\n",
        "# Performing grid search with 3-fold cross-validation and verbosity set to 2\n",
        "# (for detailed output)\n",
        "grid_search = GridSearchCV(keras_clf, param_grid, cv=3, verbose=2)"
      ],
      "metadata": {
        "id": "SOBYTG2pLp9s"
      },
      "execution_count": null,
      "outputs": []
    },
    {
      "cell_type": "code",
      "source": [
        "# Running the grid search on the training data\n",
        "grid_search.fit(X_train, y_train)"
      ],
      "metadata": {
        "id": "aM5ukviUM4xP"
      },
      "execution_count": null,
      "outputs": []
    },
    {
      "cell_type": "code",
      "source": [
        "# Getting the best model from the grid search\n",
        "grid_search.best_estimator_"
      ],
      "metadata": {
        "id": "iySGRwYQN7-k"
      },
      "execution_count": null,
      "outputs": []
    },
    {
      "cell_type": "code",
      "source": [
        "# Assigning the best model found to the variable 'model'\n",
        "model = grid_search.best_estimator_"
      ],
      "metadata": {
        "id": "PGUUvt8ZNHxm"
      },
      "execution_count": null,
      "outputs": []
    },
    {
      "cell_type": "code",
      "source": [
        "# Getting the best hyperparameters found during the grid search\n",
        "grid_search.best_params_"
      ],
      "metadata": {
        "id": "2zk9Ig4kNR7G"
      },
      "execution_count": null,
      "outputs": []
    },
    {
      "cell_type": "code",
      "source": [
        "# Evaluating the best model on the test data\n",
        "model.score(X_test, y_test)"
      ],
      "metadata": {
        "id": "5vQAnbt7Nh-1"
      },
      "execution_count": null,
      "outputs": []
    },
    {
      "cell_type": "code",
      "source": [],
      "metadata": {
        "id": "OjEtBIQJN7Hc"
      },
      "execution_count": null,
      "outputs": []
    }
  ]
}