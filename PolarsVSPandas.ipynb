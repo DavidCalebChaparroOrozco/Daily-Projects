{
 "cells": [
  {
   "cell_type": "code",
   "execution_count": 1,
   "metadata": {},
   "outputs": [],
   "source": [
    "# Importing necessary libraries\n",
    "import time\n",
    "import pandas as pd\n",
    "import polars as pl\n",
    "import numpy as np"
   ]
  },
  {
   "cell_type": "code",
   "execution_count": 2,
   "metadata": {},
   "outputs": [],
   "source": [
    "# Number of rows for the data\n",
    "nums_rows = 120000\n",
    "\n",
    "# Creating a dictionary with random data (dummies data)\n",
    "data = {\n",
    "    'A': np.random.randint(0, 100,nums_rows),\n",
    "    'B': np.random.randint(0, 100,nums_rows),\n",
    "    'C': np.random.rand(nums_rows)\n",
    "}"
   ]
  },
  {
   "cell_type": "code",
   "execution_count": 3,
   "metadata": {},
   "outputs": [],
   "source": [
    "# Creating DataFrame using Pandas\n",
    "data_pandas = pd.DataFrame(data)\n",
    "\n",
    "# Creating DataFrame using Polars\n",
    "data_polars = pl.DataFrame(data)"
   ]
  },
  {
   "cell_type": "code",
   "execution_count": 4,
   "metadata": {},
   "outputs": [],
   "source": [
    "# Function to time the execution\n",
    "def time_operation(func, *args):\n",
    "    start_time = time.time()\n",
    "    result = func(*args)\n",
    "    end_time = time.time()\n",
    "    return result, end_time - start_time"
   ]
  },
  {
   "cell_type": "code",
   "execution_count": 5,
   "metadata": {},
   "outputs": [],
   "source": [
    "# Function to read data using Pandas\n",
    "def read_data_pandas():\n",
    "    return pd.DataFrame(data)\n",
    "\n",
    "# Function to read data using Polars\n",
    "def read_data_polars():\n",
    "    return pl.DataFrame(data)"
   ]
  },
  {
   "cell_type": "code",
   "execution_count": 6,
   "metadata": {},
   "outputs": [],
   "source": [
    "# Function to perform aggregation using Pandas\n",
    "def aggregation_pandas(data):\n",
    "    return data.groupby('A').agg({'B': 'mean', 'C': 'sum'})\n",
    "\n",
    "# Function to perform aggregation using Polars\n",
    "def aggregation_polars(data):\n",
    "    return data.group_by('A').agg(pl.col('B').mean(), pl.col('C').sum())"
   ]
  },
  {
   "cell_type": "code",
   "execution_count": 7,
   "metadata": {},
   "outputs": [],
   "source": [
    "# Function to filter data using Pandas\n",
    "def filtering_pandas(data):\n",
    "    return data[data['A'] > 50]\n",
    "\n",
    "# Function to filter data using Polars\n",
    "def filtering_polars(data):\n",
    "    return data.filter(pl.col('A') > 50)"
   ]
  },
  {
   "cell_type": "code",
   "execution_count": 8,
   "metadata": {},
   "outputs": [],
   "source": [
    "# Function to join data using Pandas\n",
    "def join_pandas(data1, data2):\n",
    "    return data1.merge(data2, on='A')\n",
    "\n",
    "# Function to join data using Polars\n",
    "def join_polars(data1, data2):\n",
    "    return data1.join(data2, on='A')"
   ]
  },
  {
   "cell_type": "code",
   "execution_count": 9,
   "metadata": {},
   "outputs": [],
   "source": [
    "# Creating copies of the data for joining\n",
    "data_pandas2 = data_pandas.copy()\n",
    "data_polars2 = data_polars.clone()\n",
    "\n",
    "# Dictionary to store the results of each operation\n",
    "results = {}\n",
    "\n",
    "# Timing the data reading operations\n",
    "_, read_pandas_time = time_operation(read_data_pandas)\n",
    "_, read_polars_time = time_operation(read_data_polars)\n",
    "results['Read Data'] = {'Pandas': read_pandas_time, 'Polars': read_polars_time}\n",
    "\n",
    "# Timing the aggregation operations\n",
    "_, agg_pandas_time = time_operation(aggregation_pandas, data_pandas)\n",
    "_, agg_polars_time = time_operation(aggregation_polars, data_polars)\n",
    "results['Aggregation'] = {'Pandas': agg_pandas_time, 'Polars': agg_polars_time}\n",
    "\n",
    "# Timing the filtering operations\n",
    "_, filter_pandas_time = time_operation(filtering_pandas, data_pandas)\n",
    "_, filter_polars_time = time_operation(filtering_polars, data_polars)\n",
    "results['Filtering'] = {'Pandas': filter_pandas_time, 'Polars': filter_polars_time}\n",
    "\n",
    "# Timing the joining operations\n",
    "_, join_pandas_time = time_operation(join_pandas, data_pandas, data_pandas2)\n",
    "_, join_polars_time = time_operation(join_polars, data_polars, data_polars2)\n",
    "results['Joining'] = {'Pandas': join_pandas_time, 'Polars': join_polars_time}"
   ]
  },
  {
   "cell_type": "code",
   "execution_count": 10,
   "metadata": {},
   "outputs": [
    {
     "data": {
      "text/html": [
       "<div>\n",
       "<style scoped>\n",
       "    .dataframe tbody tr th:only-of-type {\n",
       "        vertical-align: middle;\n",
       "    }\n",
       "\n",
       "    .dataframe tbody tr th {\n",
       "        vertical-align: top;\n",
       "    }\n",
       "\n",
       "    .dataframe thead th {\n",
       "        text-align: right;\n",
       "    }\n",
       "</style>\n",
       "<table border=\"1\" class=\"dataframe\">\n",
       "  <thead>\n",
       "    <tr style=\"text-align: right;\">\n",
       "      <th></th>\n",
       "      <th>Read Data</th>\n",
       "      <th>Aggregation</th>\n",
       "      <th>Filtering</th>\n",
       "      <th>Joining</th>\n",
       "    </tr>\n",
       "  </thead>\n",
       "  <tbody>\n",
       "    <tr>\n",
       "      <th>Pandas</th>\n",
       "      <td>0.001002</td>\n",
       "      <td>0.003001</td>\n",
       "      <td>0.000999</td>\n",
       "      <td>4.093970</td>\n",
       "    </tr>\n",
       "    <tr>\n",
       "      <th>Polars</th>\n",
       "      <td>0.000000</td>\n",
       "      <td>0.001996</td>\n",
       "      <td>0.001003</td>\n",
       "      <td>0.946711</td>\n",
       "    </tr>\n",
       "  </tbody>\n",
       "</table>\n",
       "</div>"
      ],
      "text/plain": [
       "        Read Data  Aggregation  Filtering   Joining\n",
       "Pandas   0.001002     0.003001   0.000999  4.093970\n",
       "Polars   0.000000     0.001996   0.001003  0.946711"
      ]
     },
     "execution_count": 10,
     "metadata": {},
     "output_type": "execute_result"
    }
   ],
   "source": [
    "# Converting the results dictionary to a DataFrame\n",
    "results_data = pd.DataFrame(results)\n",
    "results_data"
   ]
  },
  {
   "cell_type": "code",
   "execution_count": 11,
   "metadata": {},
   "outputs": [
    {
     "name": "stdout",
     "output_type": "stream",
     "text": [
      "   A  B   C\n",
      "0  1  5  -4\n",
      "1  2  6   8\n",
      "2  3  7  -4\n",
      "3  4  8  12\n"
     ]
    }
   ],
   "source": [
    "# Example 2 (Pandas): Creating a new DataFrame and adding a new column based on a condition\n",
    "new_data = pd.DataFrame({\n",
    "    'A': [1, 2, 3, 4],\n",
    "    'B': [5, 6, 7, 8]\n",
    "})\n",
    "\n",
    "# Adding column 'C' with conditional values\n",
    "new_data['C'] = new_data.apply(lambda row: row['A'] + row['B'] if row['A'] % 2 == 0 else row['A'] - row['B'], axis=1)\n",
    "\n",
    "print(new_data)"
   ]
  },
  {
   "cell_type": "code",
   "execution_count": 12,
   "metadata": {},
   "outputs": [
    {
     "name": "stdout",
     "output_type": "stream",
     "text": [
      "shape: (4, 3)\n",
      "┌─────┬─────┬─────┐\n",
      "│ A   ┆ B   ┆ C   │\n",
      "│ --- ┆ --- ┆ --- │\n",
      "│ i64 ┆ i64 ┆ i64 │\n",
      "╞═════╪═════╪═════╡\n",
      "│ 1   ┆ 5   ┆ -4  │\n",
      "│ 2   ┆ 6   ┆ 8   │\n",
      "│ 3   ┆ 7   ┆ -4  │\n",
      "│ 4   ┆ 8   ┆ 12  │\n",
      "└─────┴─────┴─────┘\n"
     ]
    }
   ],
   "source": [
    "# Example 2 (Polars): Creating a new DataFrame and adding a new column based on a condition\n",
    "new_data = pl.DataFrame({\n",
    "    'A': [1, 2, 3, 4],\n",
    "    'B': [5, 6, 7, 8]\n",
    "})\n",
    "\n",
    "# Adding column 'C' with conditional values\n",
    "new_data = new_data.with_columns(\n",
    "    pl.when(pl.col('A') % 2 == 0)\n",
    "    .then(pl.col('A') + pl.col('B'))\n",
    "    .otherwise(pl.col('A') - pl.col('B'))\n",
    "    .alias('C')\n",
    ")\n",
    "\n",
    "print(new_data)"
   ]
  },
  {
   "cell_type": "markdown",
   "metadata": {},
   "source": [
    "# My personal opinion:\n",
    "Based on the provided results, here is my personal opinion on Polars vs. Pandas:\n",
    "## Performance Comparison\n",
    "\n",
    "1. **Read Data:**\n",
    "   - **Pandas:** 0.001002 seconds\n",
    "   - **Polars:** 0.000000 seconds\n",
    "   \n",
    "   Polars is significantly faster than Pandas when it comes to reading data.\n",
    "\n",
    "2. **Aggregation:**\n",
    "   - **Pandas:** 0.003001 seconds\n",
    "   - **Polars:** 0.001996 seconds\n",
    "   \n",
    "   Polars shows a slight edge in aggregation operations.\n",
    "\n",
    "3. **Filtering:**\n",
    "   - **Pandas:** 0.000999 seconds\n",
    "   - **Polars:** 0.001003 seconds\n",
    "   \n",
    "   Pandas performs slightly better in filtering operations.\n",
    "\n",
    "4. **Joining:**\n",
    "   - **Pandas:** 4.093970 seconds\n",
    "   - **Polars:** 0.946711 seconds\n",
    "   \n",
    "   Polars is much faster than Pandas for join operations, with a significant difference in execution time.\n",
    "\n",
    "## General Observations\n",
    "\n",
    "- **Speed:** Polars consistently demonstrates faster performance in reading, aggregating, and joining data. The differences in speed are most pronounced in the joining operation, where Polars is substantially quicker.\n",
    "- **Syntax:** Polars offers a more concise syntax for certain operations, which can be more intuitive once familiar. However, Pandas is widely used and has a vast amount of documentation and community support.\n",
    "- **Scalability:** Polars is designed to handle large datasets efficiently, making it a strong candidate for big data applications. Its performance benefits become more noticeable as the size of the dataset increases.\n",
    "\n",
    "## Conclusion\n",
    "\n",
    "While Pandas is a mature and widely-used library with extensive support and resources, Polars is emerging as a powerful alternative for performance-critical applications. If your work involves processing large datasets or you require the fastest possible execution times for specific operations, Polars is worth considering. However, for general-purpose data manipulation, especially when community support and existing familiarity are important, Pandas remains a solid choice."
   ]
  }
 ],
 "metadata": {
  "kernelspec": {
   "display_name": "Python 3",
   "language": "python",
   "name": "python3"
  },
  "language_info": {
   "codemirror_mode": {
    "name": "ipython",
    "version": 3
   },
   "file_extension": ".py",
   "mimetype": "text/x-python",
   "name": "python",
   "nbconvert_exporter": "python",
   "pygments_lexer": "ipython3",
   "version": "3.12.0"
  }
 },
 "nbformat": 4,
 "nbformat_minor": 2
}
