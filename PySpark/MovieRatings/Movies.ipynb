{
 "cells": [
  {
   "cell_type": "code",
   "execution_count": 1,
   "metadata": {},
   "outputs": [],
   "source": [
    "# Importing necessary libraries\n",
    "from pyspark.sql import SparkSession\n",
    "from pyspark.sql.functions import col, avg, count, desc\n",
    "import matplotlib.pyplot as plt\n",
    "import seaborn as sns"
   ]
  },
  {
   "cell_type": "code",
   "execution_count": 2,
   "metadata": {},
   "outputs": [],
   "source": [
    "# Initialize a Spark session\n",
    "spark = SparkSession.builder \\\n",
    "    .appName(\"Movie Ratings Analysis\") \\\n",
    "    .getOrCreate()"
   ]
  },
  {
   "cell_type": "code",
   "execution_count": null,
   "metadata": {},
   "outputs": [],
   "source": [
    "# Load the dataset into a DataFrame\n",
    "ratings_data = spark.read.csv(\"ratings.csv\", header=True, inferSchema=True)\n",
    "\n",
    "# Display the first few rows of the dataset\n",
    "ratings_data.show(5)"
   ]
  },
  {
   "cell_type": "code",
   "execution_count": null,
   "metadata": {},
   "outputs": [],
   "source": [
    "# Calculate the average rating for each movie\n",
    "average_ratings_data = ratings_data.groupBy(\"movieId\").agg(avg(\"rating\").alias(\"avg_rating\"))\n",
    "\n",
    "# Calculate the number of ratings each movie received\n",
    "ratings_count_data = ratings_data.groupBy(\"movieId\").agg(count(\"rating\").alias(\"num_ratings\"))\n",
    "\n",
    "# Filter movies that have at least 50 ratings\n",
    "popular_movies_data = ratings_count_data.filter(col(\"num_ratings\") >= 50)"
   ]
  },
  {
   "cell_type": "code",
   "execution_count": null,
   "metadata": {},
   "outputs": [],
   "source": [
    "# Join with average ratings DataFrame to get the stats for popular movies\n",
    "popular_movie_stats_data = popular_movies_data.join(average_ratings_data, on=\"movieId\")\n",
    "\n",
    "# Display the top 10 movies with the highest average ratings that have at least 50 ratings\n",
    "popular_movie_stats_data.orderBy(col(\"avg_rating\").desc()).show(10)"
   ]
  },
  {
   "cell_type": "code",
   "execution_count": null,
   "metadata": {},
   "outputs": [],
   "source": [
    "# Calculate the average rating given by each user\n",
    "user_avg_ratings_data = ratings_data.groupBy(\"userId\").agg(avg(\"rating\").alias(\"user_avg_rating\"))\n",
    "\n",
    "# Display the top 10 users with the highest average rating\n",
    "user_avg_ratings_data.orderBy(col(\"user_avg_rating\").desc()).show(10)"
   ]
  },
  {
   "cell_type": "code",
   "execution_count": null,
   "metadata": {},
   "outputs": [],
   "source": [
    "# Calculate the distribution of ratings (number of occurrences of each rating value)\n",
    "rating_distribution_data = ratings_data.groupBy(\"rating\").count().orderBy(col(\"rating\"))\n",
    "\n",
    "# Show the distribution of ratings\n",
    "rating_distribution_data.show()"
   ]
  },
  {
   "cell_type": "code",
   "execution_count": null,
   "metadata": {},
   "outputs": [],
   "source": [
    "# Calculate the top 10 users who have rated the most movies\n",
    "top_users_data = ratings_data.groupBy(\"userId\").agg(count(\"rating\").alias(\"num_ratings\")).orderBy(col(\"num_ratings\").desc())\n",
    "\n",
    "# Display the top 10 most active users\n",
    "top_users_data.show(10)"
   ]
  },
  {
   "cell_type": "code",
   "execution_count": null,
   "metadata": {},
   "outputs": [],
   "source": [
    "# Convert the rating distribution DataFrame to pandas for plotting\n",
    "rating_distribution_pd = rating_distribution_data.toPandas()\n",
    "\n",
    "# Setting up Seaborn style\n",
    "sns.set_theme(style=\"whitegrid\")\n",
    "\n",
    "# Create the bar chart with Seaborn\n",
    "plt.figure(figsize=(10, 6))\n",
    "bar_plot = sns.barplot(x='rating', y='count', data=rating_distribution_pd, palette='ocean', edgecolor='black')\n",
    "\n",
    "# Add labels on the bars\n",
    "for i in range(len(rating_distribution_pd)):\n",
    "    bar_plot.text(i, rating_distribution_pd['count'][i], f'{rating_distribution_pd[\"count\"][i]:,}', \n",
    "                ha='center', va='bottom', fontsize=12, color='black')\n",
    "\n",
    "# Set labels and title\n",
    "plt.xlabel('Rating', fontsize=14)\n",
    "plt.ylabel('Count', fontsize=14)\n",
    "plt.title('Distribution of Movie Ratings', fontsize=16)\n",
    "plt.xticks(fontsize=12)\n",
    "plt.yticks(fontsize=12)\n",
    "\n",
    "# Show the graph\n",
    "plt.tight_layout()\n",
    "plt.show()"
   ]
  },
  {
   "cell_type": "code",
   "execution_count": null,
   "metadata": {},
   "outputs": [],
   "source": [
    "# Stop the Spark session\n",
    "spark.stop()"
   ]
  }
 ],
 "metadata": {
  "kernelspec": {
   "display_name": "Python 3",
   "language": "python",
   "name": "python3"
  },
  "language_info": {
   "codemirror_mode": {
    "name": "ipython",
    "version": 3
   },
   "file_extension": ".py",
   "mimetype": "text/x-python",
   "name": "python",
   "nbconvert_exporter": "python",
   "pygments_lexer": "ipython3",
   "version": "3.12.0"
  }
 },
 "nbformat": 4,
 "nbformat_minor": 2
}
