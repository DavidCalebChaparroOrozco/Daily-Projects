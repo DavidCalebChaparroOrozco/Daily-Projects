{
 "cells": [
  {
   "cell_type": "code",
   "execution_count": 1,
   "metadata": {},
   "outputs": [],
   "source": [
    "# Importing necessary libraries\n",
    "from pyspark.sql import SparkSession\n",
    "from pyspark.sql.functions import col, avg, count, desc\n",
    "import matplotlib.pyplot as plt\n",
    "import seaborn as sns"
   ]
  },
  {
   "cell_type": "code",
   "execution_count": 2,
   "metadata": {},
   "outputs": [],
   "source": [
    "# Initialize a Spark session\n",
    "spark = SparkSession.builder \\\n",
    "    .appName(\"Movie Ratings Analysis\") \\\n",
    "    .getOrCreate()"
   ]
  },
  {
   "cell_type": "code",
   "execution_count": 3,
   "metadata": {},
   "outputs": [
    {
     "name": "stdout",
     "output_type": "stream",
     "text": [
      "+------+-------+------+-------------------+\n",
      "|userId|movieId|rating|             tstamp|\n",
      "+------+-------+------+-------------------+\n",
      "|   206|   4803|   4.0|2003-04-07 13:52:01|\n",
      "|  5073|  72731|   4.0|2020-02-19 16:07:53|\n",
      "|  4739|  91653|   4.0|2020-12-28 15:35:58|\n",
      "|   535|   3005|   3.0|2008-12-26 05:38:11|\n",
      "|   465|   4776|   3.0|2008-08-13 20:22:36|\n",
      "+------+-------+------+-------------------+\n",
      "only showing top 5 rows\n",
      "\n"
     ]
    }
   ],
   "source": [
    "# Load the dataset into a DataFrame\n",
    "ratings_data = spark.read.csv(\"ratings.csv\", header=True, inferSchema=True)\n",
    "\n",
    "# Display the first few rows of the dataset\n",
    "ratings_data.show(5)"
   ]
  },
  {
   "cell_type": "code",
   "execution_count": 4,
   "metadata": {},
   "outputs": [],
   "source": [
    "# Calculate the average rating for each movie\n",
    "average_ratings_data = ratings_data.groupBy(\"movieId\").agg(avg(\"rating\").alias(\"avg_rating\"))\n",
    "\n",
    "# Calculate the number of ratings each movie received\n",
    "ratings_count_data = ratings_data.groupBy(\"movieId\").agg(count(\"rating\").alias(\"num_ratings\"))\n",
    "\n",
    "# Filter movies that have at least 50 ratings\n",
    "popular_movies_data = ratings_count_data.filter(col(\"num_ratings\") >= 50)"
   ]
  },
  {
   "cell_type": "code",
   "execution_count": 5,
   "metadata": {},
   "outputs": [
    {
     "name": "stdout",
     "output_type": "stream",
     "text": [
      "+-------+-----------+------------------+\n",
      "|movieId|num_ratings|        avg_rating|\n",
      "+-------+-----------+------------------+\n",
      "| 171011|        660| 4.472727272727273|\n",
      "| 159817|        980| 4.415816326530612|\n",
      "| 172591|        390| 4.387179487179488|\n",
      "| 170705|        979| 4.384065372829418|\n",
      "|  26073|         51| 4.372549019607843|\n",
      "|    318|       4945| 4.350252780586451|\n",
      "|   1203|       2275| 4.333186813186813|\n",
      "| 159819|        130|4.3307692307692305|\n",
      "| 171495|        257| 4.326848249027237|\n",
      "|  93040|        142| 4.323943661971831|\n",
      "+-------+-----------+------------------+\n",
      "only showing top 10 rows\n",
      "\n"
     ]
    }
   ],
   "source": [
    "# Join with average ratings DataFrame to get the stats for popular movies\n",
    "popular_movie_stats_data = popular_movies_data.join(average_ratings_data, on=\"movieId\")\n",
    "\n",
    "# Display the top 10 movies with the highest average ratings that have at least 50 ratings\n",
    "popular_movie_stats_data.orderBy(col(\"avg_rating\").desc()).show(10)"
   ]
  },
  {
   "cell_type": "code",
   "execution_count": 6,
   "metadata": {},
   "outputs": [
    {
     "name": "stdout",
     "output_type": "stream",
     "text": [
      "+------+---------------+\n",
      "|userId|user_avg_rating|\n",
      "+------+---------------+\n",
      "|  1934|            5.0|\n",
      "|  2873|            5.0|\n",
      "|  3006|            5.0|\n",
      "|  1877|            5.0|\n",
      "|  2175|            5.0|\n",
      "|  4664|            5.0|\n",
      "|  4076|            5.0|\n",
      "|  1767|            5.0|\n",
      "|  6261|            5.0|\n",
      "|  5438|            5.0|\n",
      "+------+---------------+\n",
      "only showing top 10 rows\n",
      "\n"
     ]
    }
   ],
   "source": [
    "# Calculate the average rating given by each user\n",
    "user_avg_ratings_data = ratings_data.groupBy(\"userId\").agg(avg(\"rating\").alias(\"user_avg_rating\"))\n",
    "\n",
    "# Display the top 10 users with the highest average rating\n",
    "user_avg_ratings_data.orderBy(col(\"user_avg_rating\").desc()).show(10)"
   ]
  },
  {
   "cell_type": "code",
   "execution_count": 7,
   "metadata": {},
   "outputs": [
    {
     "name": "stdout",
     "output_type": "stream",
     "text": [
      "+------+------+\n",
      "|rating| count|\n",
      "+------+------+\n",
      "|   0.5| 78570|\n",
      "|   1.0| 95044|\n",
      "|   1.5| 95228|\n",
      "|   2.0|241348|\n",
      "|   2.5|310870|\n",
      "|   3.0|693019|\n",
      "|   3.5|747522|\n",
      "|   4.0|900243|\n",
      "|   4.5|405031|\n",
      "|   5.0|341782|\n",
      "+------+------+\n",
      "\n"
     ]
    }
   ],
   "source": [
    "# Calculate the distribution of ratings (number of occurrences of each rating value)\n",
    "rating_distribution_data = ratings_data.groupBy(\"rating\").count().orderBy(col(\"rating\"))\n",
    "\n",
    "# Show the distribution of ratings\n",
    "rating_distribution_data.show()"
   ]
  },
  {
   "cell_type": "code",
   "execution_count": 8,
   "metadata": {},
   "outputs": [
    {
     "name": "stdout",
     "output_type": "stream",
     "text": [
      "+------+-----------+\n",
      "|userId|num_ratings|\n",
      "+------+-----------+\n",
      "|   911|       9601|\n",
      "|   599|       9330|\n",
      "|   730|       8606|\n",
      "|  3698|       7769|\n",
      "|   155|       7467|\n",
      "|    79|       7370|\n",
      "|   181|       7303|\n",
      "|   892|       5879|\n",
      "|   112|       5703|\n",
      "|  2843|       5617|\n",
      "+------+-----------+\n",
      "only showing top 10 rows\n",
      "\n"
     ]
    }
   ],
   "source": [
    "# Calculate the top 10 users who have rated the most movies\n",
    "top_users_data = ratings_data.groupBy(\"userId\").agg(count(\"rating\").alias(\"num_ratings\")).orderBy(col(\"num_ratings\").desc())\n",
    "\n",
    "# Display the top 10 most active users\n",
    "top_users_data.show(10)"
   ]
  },
  {
   "cell_type": "code",
   "execution_count": 9,
   "metadata": {},
   "outputs": [
    {
     "name": "stderr",
     "output_type": "stream",
     "text": [
      "C:\\Users\\Usuario\\AppData\\Local\\Temp\\ipykernel_1924\\1509247441.py:9: FutureWarning: \n",
      "\n",
      "Passing `palette` without assigning `hue` is deprecated and will be removed in v0.14.0. Assign the `x` variable to `hue` and set `legend=False` for the same effect.\n",
      "\n",
      "  bar_plot = sns.barplot(x='rating', y='count', data=rating_distribution_pd, palette='ocean', edgecolor='black')\n"
     ]
    },
    {
     "data": {
      "image/png": "[encoded data removed]",
      "text/plain": [
       "<Figure size 1000x600 with 1 Axes>"
      ]
     },
     "metadata": {},
     "output_type": "display_data"
    }
   ],
   "source": [
    "# Convert the rating distribution DataFrame to pandas for plotting\n",
    "rating_distribution_pd = rating_distribution_data.toPandas()\n",
    "\n",
    "# Setting up Seaborn style\n",
    "sns.set_theme(style=\"whitegrid\")\n",
    "\n",
    "# Create the bar chart with Seaborn\n",
    "plt.figure(figsize=(10, 6))\n",
    "bar_plot = sns.barplot(x='rating', y='count', data=rating_distribution_pd, palette='ocean', edgecolor='black')\n",
    "\n",
    "# Add labels on the bars\n",
    "for i in range(len(rating_distribution_pd)):\n",
    "    bar_plot.text(i, rating_distribution_pd['count'][i], f'{rating_distribution_pd[\"count\"][i]:,}', \n",
    "                ha='center', va='bottom', fontsize=12, color='black')\n",
    "\n",
    "# Set labels and title\n",
    "plt.xlabel('Rating', fontsize=14)\n",
    "plt.ylabel('Count', fontsize=14)\n",
    "plt.title('Distribution of Movie Ratings', fontsize=16)\n",
    "plt.xticks(fontsize=12)\n",
    "plt.yticks(fontsize=12)\n",
    "\n",
    "# Show the graph\n",
    "plt.tight_layout()\n",
    "plt.show()"
   ]
  },
  {
   "cell_type": "code",
   "execution_count": 10,
   "metadata": {},
   "outputs": [],
   "source": [
    "# Stop the Spark session\n",
    "spark.stop()"
   ]
  }
 ],
 "metadata": {
  "kernelspec": {
   "display_name": "Python 3",
   "language": "python",
   "name": "python3"
  },
  "language_info": {
   "codemirror_mode": {
    "name": "ipython",
    "version": 3
   },
   "file_extension": ".py",
   "mimetype": "text/x-python",
   "name": "python",
   "nbconvert_exporter": "python",
   "pygments_lexer": "ipython3",
   "version": "3.12.0"
  }
 },
 "nbformat": 4,
 "nbformat_minor": 2
}
