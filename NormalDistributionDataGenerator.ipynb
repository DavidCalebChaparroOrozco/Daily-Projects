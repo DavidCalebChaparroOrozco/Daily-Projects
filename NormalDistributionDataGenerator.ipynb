{
 "cells": [
  {
   "cell_type": "code",
   "execution_count": 1,
   "id": "0b65221a",
   "metadata": {},
   "outputs": [],
   "source": [
    "# Import necessary libraries\n",
    "import numpy as np\n",
    "import matplotlib.pyplot as plt\n",
    "from ipywidgets import interact, FloatSlider, IntSlider"
   ]
  },
  {
   "cell_type": "code",
   "execution_count": 2,
   "id": "89f1b6fe",
   "metadata": {},
   "outputs": [],
   "source": [
    "# Generate and visualize data from a normal distribution.\n",
    "def generate_normal_data(mean=0, std_dev=1, sample_size=1000, show_plot=True):\n",
    "    \"\"\"\n",
    "    Parameters:\n",
    "    - mean: Mean (μ) of the normal distribution\n",
    "    - std_dev: Standard deviation (σ) of the distribution (must be positive)\n",
    "    - sample_size: Number of data points to generate\n",
    "    - show_plot: Whether to display the histogram plot\n",
    "    \n",
    "    Returns:\n",
    "    - numpy.ndarray: Array of generated data points\n",
    "    \"\"\"\n",
    "    # Validate standard deviation\n",
    "    if std_dev <= 0:\n",
    "        raise ValueError(\"Standard deviation must be positive\")\n",
    "    \n",
    "    # Generate random data from normal distribution\n",
    "    data = np.random.normal(loc=mean, scale=std_dev, size=sample_size)\n",
    "    \n",
    "    if show_plot:\n",
    "        # Create figure and axis\n",
    "        plt.figure(figsize=(10, 6))\n",
    "        \n",
    "        # Plot histogram of the data\n",
    "        plt.hist(data, bins=30, density=True, alpha=0.7, color='blue', edgecolor='black')\n",
    "        \n",
    "        # Plot the theoretical PDF\n",
    "        x = np.linspace(mean - 4*std_dev, mean + 4*std_dev, 1000)\n",
    "        pdf = (1/(std_dev * np.sqrt(2*np.pi))) * np.exp(-0.5*((x-mean)/std_dev)**2)\n",
    "        plt.plot(x, pdf, 'r-', linewidth=2, label='Theoretical PDF')\n",
    "        \n",
    "        # Add plot decorations\n",
    "        plt.title(f'Normal Distribution (μ={mean}, σ={std_dev}, n={sample_size})')\n",
    "        plt.xlabel('Value')\n",
    "        plt.ylabel('Probability Density')\n",
    "        plt.legend()\n",
    "        plt.grid(True, alpha=0.3)\n",
    "        \n",
    "        # Show the plot\n",
    "        plt.show()\n",
    "    \n",
    "    return data"
   ]
  },
  {
   "cell_type": "code",
   "execution_count": 3,
   "id": "c3e82f8c",
   "metadata": {},
   "outputs": [],
   "source": [
    "# Create an interactive widget for generating normal distribution data.\n",
    "# Allows dynamic adjustment of μ, σ, and sample size.\n",
    "def interactive_normal_generator():\n",
    "    # Define interactive widgets\n",
    "    interact(\n",
    "        generate_normal_data,\n",
    "        mean=FloatSlider(value=0, min=-10, max=10, step=0.5, description='Mean (μ)'),\n",
    "        std_dev=FloatSlider(value=1, min=0.1, max=5, step=0.1, description='Std Dev (σ)'),\n",
    "        sample_size=IntSlider(value=1000, min=100, max=10000, step=100, description='Sample Size'),\n",
    "        show_plot=True\n",
    "    )"
   ]
  },
  {
   "cell_type": "code",
   "execution_count": 4,
   "id": "5cc69e8b",
   "metadata": {},
   "outputs": [
    {
     "data": {
      "application/vnd.jupyter.widget-view+json": {
       "model_id": "fdee0cbd76f54b5391579e2a80c27b00",
       "version_major": 2,
       "version_minor": 0
      },
      "text/plain": [
       "interactive(children=(FloatSlider(value=0.0, description='Mean (μ)', max=10.0, min=-10.0, step=0.5), FloatSlid…"
      ]
     },
     "metadata": {},
     "output_type": "display_data"
    }
   ],
   "source": [
    "interactive_normal_generator()"
   ]
  }
 ],
 "metadata": {
  "kernelspec": {
   "display_name": "Python 3",
   "language": "python",
   "name": "python3"
  },
  "language_info": {
   "codemirror_mode": {
    "name": "ipython",
    "version": 3
   },
   "file_extension": ".py",
   "mimetype": "text/x-python",
   "name": "python",
   "nbconvert_exporter": "python",
   "pygments_lexer": "ipython3",
   "version": "3.12.0"
  }
 },
 "nbformat": 4,
 "nbformat_minor": 5
}
