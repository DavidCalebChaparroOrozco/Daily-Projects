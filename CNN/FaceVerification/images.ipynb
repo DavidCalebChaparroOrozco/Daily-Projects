{
 "cells": [
  {
   "cell_type": "code",
   "execution_count": 1,
   "id": "a1b4fab9",
   "metadata": {},
   "outputs": [
    {
     "name": "stdout",
     "output_type": "stream",
     "text": [
      "WARNING:tensorflow:From C:\\Users\\Usuario\\AppData\\Roaming\\Python\\Python312\\site-packages\\tf_keras\\src\\losses.py:2976: The name tf.losses.sparse_softmax_cross_entropy is deprecated. Please use tf.compat.v1.losses.sparse_softmax_cross_entropy instead.\n",
      "\n"
     ]
    }
   ],
   "source": [
    "# Import necessary libraries\n",
    "import cv2\n",
    "import mediapipe as mp\n",
    "from deepface import DeepFace\n",
    "import time\n",
    "import os"
   ]
  },
  {
   "cell_type": "code",
   "execution_count": 2,
   "id": "e3264843",
   "metadata": {},
   "outputs": [],
   "source": [
    "# Configuration\n",
    "MODEL_NAME = 'Facenet'\n",
    "THRESHOLD = 0.4\n",
    "IMAGE_DIR = \"images\"\n",
    "CAPTURED_IMAGE = \"captured.jpg\""
   ]
  },
  {
   "cell_type": "code",
   "execution_count": 3,
   "id": "32d2dc3c",
   "metadata": {},
   "outputs": [],
   "source": [
    "# Initialize MediaPipe face detection\n",
    "mp_face_detection = mp.solutions.face_detection\n",
    "mp_face_mesh = mp.solutions.face_mesh\n",
    "mp_drawing = mp.solutions.drawing_utils"
   ]
  },
  {
   "cell_type": "code",
   "execution_count": 4,
   "id": "4c5b6638",
   "metadata": {},
   "outputs": [],
   "source": [
    "# Function to detect faces and draw bounding boxes\n",
    "def run_face_detection():\n",
    "    cap = cv2.VideoCapture(0)\n",
    "    with mp_face_detection.FaceDetection(model_selection=0, min_detection_confidence=0.5) as face_detection:\n",
    "        while cap.isOpened():\n",
    "            success, image = cap.read()\n",
    "            if not success:\n",
    "                print(\"Ignoring empty camera frame.\")\n",
    "                continue\n",
    "\n",
    "            image.flags.writeable = False\n",
    "            image_rgb = cv2.cvtColor(image, cv2.COLOR_BGR2RGB)\n",
    "            results = face_detection.process(image_rgb)\n",
    "\n",
    "            image.flags.writeable = True\n",
    "            image_bgr = cv2.cvtColor(image_rgb, cv2.COLOR_RGB2BGR)\n",
    "\n",
    "            if results.detections:\n",
    "                for detection in results.detections:\n",
    "                    mp_drawing.draw_detection(image_bgr, detection)\n",
    "\n",
    "            cv2.imshow('Face Detection', cv2.flip(image_bgr, 1))\n",
    "\n",
    "            if cv2.waitKey(5) & 0xFF == 27:\n",
    "                break\n",
    "    cap.release()\n",
    "    cv2.destroyAllWindows()"
   ]
  },
  {
   "cell_type": "code",
   "execution_count": 5,
   "id": "f66f3cdc",
   "metadata": {},
   "outputs": [],
   "source": [
    "# Function to run MediaPipe FaceMesh\n",
    "def run_face_mesh():\n",
    "    cap = cv2.VideoCapture(0)\n",
    "    drawing_spec = mp_drawing.DrawingSpec(thickness=1, circle_radius=1)\n",
    "    with mp_face_mesh.FaceMesh(\n",
    "        static_image_mode=False,\n",
    "        max_num_faces=1,\n",
    "        refine_landmarks=True,\n",
    "        min_detection_confidence=0.5,\n",
    "        min_tracking_confidence=0.5) as face_mesh:\n",
    "\n",
    "        while cap.isOpened():\n",
    "            success, image = cap.read()\n",
    "            if not success:\n",
    "                continue\n",
    "\n",
    "            image.flags.writeable = False\n",
    "            image_rgb = cv2.cvtColor(image, cv2.COLOR_BGR2RGB)\n",
    "            results = face_mesh.process(image_rgb)\n",
    "\n",
    "            image.flags.writeable = True\n",
    "            image_bgr = cv2.cvtColor(image_rgb, cv2.COLOR_RGB2BGR)\n",
    "\n",
    "            if results.multi_face_landmarks:\n",
    "                for face_landmarks in results.multi_face_landmarks:\n",
    "                    mp_drawing.draw_landmarks(\n",
    "                        image=image_bgr,\n",
    "                        landmark_list=face_landmarks,\n",
    "                        connections=mp_face_mesh.FACEMESH_TESSELATION,\n",
    "                        landmark_drawing_spec=None,\n",
    "                        connection_drawing_spec=drawing_spec)\n",
    "\n",
    "            cv2.imshow('Face Mesh', cv2.flip(image_bgr, 1))\n",
    "\n",
    "            if cv2.waitKey(5) & 0xFF == 27:\n",
    "                break\n",
    "    cap.release()\n",
    "    cv2.destroyAllWindows()"
   ]
  },
  {
   "cell_type": "code",
   "execution_count": 6,
   "id": "2d670de2",
   "metadata": {},
   "outputs": [],
   "source": [
    "# Load all reference images into a labeled dictionary\n",
    "def load_face_database():\n",
    "    database = {\"Kobe\": [], \"Freeman\": []}\n",
    "    for file in os.listdir(IMAGE_DIR):\n",
    "        path = os.path.join(IMAGE_DIR, file)\n",
    "        if \"kobe\" in file.lower():\n",
    "            database[\"Kobe\"].append(path)\n",
    "        elif \"freeman\" in file.lower():\n",
    "            database[\"Freeman\"].append(path)\n",
    "        elif \"caleb\" in file.lower():\n",
    "            database[\"Caleb\"].append(path)\n",
    "    return database"
   ]
  },
  {
   "cell_type": "code",
   "execution_count": 7,
   "id": "042abb66",
   "metadata": {},
   "outputs": [],
   "source": [
    "# Compare a new image with all known identities\n",
    "def identify_person(captured_img, database):\n",
    "    distances = {}\n",
    "    for person, images in database.items():\n",
    "        total_distance = 0\n",
    "        valid = 0\n",
    "        for ref_img in images:\n",
    "            try:\n",
    "                result = DeepFace.verify(captured_img, ref_img, model_name=MODEL_NAME, enforce_detection=True)\n",
    "                total_distance += result['distance']\n",
    "                valid += 1\n",
    "            except Exception as e:\n",
    "                print(f\"Error comparing with {ref_img}: {e}\")\n",
    "                continue\n",
    "        if valid:\n",
    "            avg = total_distance / valid\n",
    "            distances[person] = avg\n",
    "\n",
    "    if distances:\n",
    "        best_match = min(distances, key=distances.get)\n",
    "        if distances[best_match] < THRESHOLD:\n",
    "            print(f\"✅ Identified as {best_match} (avg distance: {distances[best_match]:.4f})\")\n",
    "        else:\n",
    "            print(f\"❌ Unknown face (min distance: {distances[best_match]:.4f})\")\n",
    "    else:\n",
    "        print(\"⚠️ No face match found.\")"
   ]
  },
  {
   "cell_type": "code",
   "execution_count": 8,
   "id": "09ab744b",
   "metadata": {},
   "outputs": [],
   "source": [
    "# Capture a photo from webcam\n",
    "def capture_image(filename):\n",
    "    cap = cv2.VideoCapture(0)\n",
    "    time.sleep(2)\n",
    "    print(\"Press SPACE to capture...\")\n",
    "\n",
    "    while True:\n",
    "        ret, frame = cap.read()\n",
    "        if not ret:\n",
    "            continue\n",
    "\n",
    "        cv2.imshow(\"Capture\", frame)\n",
    "        key = cv2.waitKey(1)\n",
    "\n",
    "        if key == 32:\n",
    "            cv2.imwrite(filename, frame)\n",
    "            print(f\"📸 Saved as {filename}\")\n",
    "            break\n",
    "        elif key == 27:\n",
    "            break\n",
    "    cap.release()\n",
    "    cv2.destroyAllWindows()\n",
    "    return os.path.exists(filename)"
   ]
  },
  {
   "cell_type": "code",
   "execution_count": 9,
   "id": "250c75cd",
   "metadata": {},
   "outputs": [
    {
     "name": "stdout",
     "output_type": "stream",
     "text": [
      "Loading face database...\n"
     ]
    },
    {
     "ename": "KeyError",
     "evalue": "'Caleb'",
     "output_type": "error",
     "traceback": [
      "\u001b[1;31m---------------------------------------------------------------------------\u001b[0m",
      "\u001b[1;31mKeyError\u001b[0m                                  Traceback (most recent call last)",
      "Cell \u001b[1;32mIn[9], line 12\u001b[0m\n\u001b[0;32m      6\u001b[0m         identify_person(CAPTURED_IMAGE, db)\n\u001b[0;32m      8\u001b[0m \u001b[38;5;28;01mif\u001b[39;00m \u001b[38;5;18m__name__\u001b[39m \u001b[38;5;241m==\u001b[39m \u001b[38;5;124m\"\u001b[39m\u001b[38;5;124m__main__\u001b[39m\u001b[38;5;124m\"\u001b[39m:\n\u001b[0;32m      9\u001b[0m     \u001b[38;5;66;03m# Choose which module to run\u001b[39;00m\n\u001b[0;32m     10\u001b[0m     \u001b[38;5;66;03m# run_face_detection()\u001b[39;00m\n\u001b[0;32m     11\u001b[0m     \u001b[38;5;66;03m# run_face_mesh()\u001b[39;00m\n\u001b[1;32m---> 12\u001b[0m     \u001b[43mmain\u001b[49m\u001b[43m(\u001b[49m\u001b[43m)\u001b[49m\n",
      "Cell \u001b[1;32mIn[9], line 4\u001b[0m, in \u001b[0;36mmain\u001b[1;34m()\u001b[0m\n\u001b[0;32m      2\u001b[0m \u001b[38;5;28;01mdef\u001b[39;00m \u001b[38;5;21mmain\u001b[39m():\n\u001b[0;32m      3\u001b[0m     \u001b[38;5;28mprint\u001b[39m(\u001b[38;5;124m\"\u001b[39m\u001b[38;5;124mLoading face database...\u001b[39m\u001b[38;5;124m\"\u001b[39m)\n\u001b[1;32m----> 4\u001b[0m     db \u001b[38;5;241m=\u001b[39m \u001b[43mload_face_database\u001b[49m\u001b[43m(\u001b[49m\u001b[43m)\u001b[49m\n\u001b[0;32m      5\u001b[0m     \u001b[38;5;28;01mif\u001b[39;00m capture_image(CAPTURED_IMAGE):\n\u001b[0;32m      6\u001b[0m         identify_person(CAPTURED_IMAGE, db)\n",
      "Cell \u001b[1;32mIn[6], line 11\u001b[0m, in \u001b[0;36mload_face_database\u001b[1;34m()\u001b[0m\n\u001b[0;32m      9\u001b[0m         database[\u001b[38;5;124m\"\u001b[39m\u001b[38;5;124mFreeman\u001b[39m\u001b[38;5;124m\"\u001b[39m]\u001b[38;5;241m.\u001b[39mappend(path)\n\u001b[0;32m     10\u001b[0m     \u001b[38;5;28;01melif\u001b[39;00m \u001b[38;5;124m\"\u001b[39m\u001b[38;5;124mcaleb\u001b[39m\u001b[38;5;124m\"\u001b[39m \u001b[38;5;129;01min\u001b[39;00m file\u001b[38;5;241m.\u001b[39mlower():\n\u001b[1;32m---> 11\u001b[0m         \u001b[43mdatabase\u001b[49m\u001b[43m[\u001b[49m\u001b[38;5;124;43m\"\u001b[39;49m\u001b[38;5;124;43mCaleb\u001b[39;49m\u001b[38;5;124;43m\"\u001b[39;49m\u001b[43m]\u001b[49m\u001b[38;5;241m.\u001b[39mappend(path)\n\u001b[0;32m     12\u001b[0m \u001b[38;5;28;01mreturn\u001b[39;00m database\n",
      "\u001b[1;31mKeyError\u001b[0m: 'Caleb'"
     ]
    }
   ],
   "source": [
    "# Main function\n",
    "def main():\n",
    "    print(\"Loading face database...\")\n",
    "    db = load_face_database()\n",
    "    if capture_image(CAPTURED_IMAGE):\n",
    "        identify_person(CAPTURED_IMAGE, db)\n",
    "\n",
    "if __name__ == \"__main__\":\n",
    "    # Choose which module to run\n",
    "    # run_face_detection()\n",
    "    # run_face_mesh()\n",
    "    main()"
   ]
  }
 ],
 "metadata": {
  "kernelspec": {
   "display_name": "Python 3",
   "language": "python",
   "name": "python3"
  },
  "language_info": {
   "codemirror_mode": {
    "name": "ipython",
    "version": 3
   },
   "file_extension": ".py",
   "mimetype": "text/x-python",
   "name": "python",
   "nbconvert_exporter": "python",
   "pygments_lexer": "ipython3",
   "version": "3.12.0"
  }
 },
 "nbformat": 4,
 "nbformat_minor": 5
}
