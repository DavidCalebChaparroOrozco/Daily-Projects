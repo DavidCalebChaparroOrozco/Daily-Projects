{
 "cells": [
  {
   "cell_type": "markdown",
   "id": "19f1b42d",
   "metadata": {},
   "source": [
    "# Working with HaarCascade"
   ]
  },
  {
   "cell_type": "code",
   "execution_count": 1,
   "id": "5b54521a",
   "metadata": {},
   "outputs": [],
   "source": [
    "# Import necessary libraries\n",
    "\n",
    "# Images\n",
    "import os\n",
    "import cv2\n",
    "import numpy as np\n",
    "import matplotlib.pyplot as plt\n",
    "from PIL import Image\n",
    "from pathlib import Path\n",
    "import pandas as pd\n",
    "from tqdm import tqdm\n",
    "\n",
    "# PDF's\n",
    "import fitz\n",
    "\n",
    "%matplotlib inline"
   ]
  },
  {
   "cell_type": "code",
   "execution_count": 2,
   "id": "64fc80ca",
   "metadata": {},
   "outputs": [],
   "source": [
    "# Define paths\n",
    "input_dir = Path(\"photo/images\")\n",
    "output_dir_haar = Path(\"face_detected_HaarCascade\")\n",
    "output_dir_haar.mkdir(parents=True, exist_ok=True)\n",
    "\n",
    "cropped_dir_haar = Path(\"cropped_face_HaarCascade\")\n",
    "cropped_dir_haar.mkdir(parents=True, exist_ok=True)"
   ]
  },
  {
   "cell_type": "code",
   "execution_count": 3,
   "id": "46f0e659",
   "metadata": {},
   "outputs": [],
   "source": [
    "# Haar Cascade pre-trained model from OpenCV\n",
    "face_cascade = cv2.CascadeClassifier(cv2.data.haarcascades + 'haarcascade_frontalface_default.xml')\n",
    "\n",
    "no_face_detected = []"
   ]
  },
  {
   "cell_type": "code",
   "execution_count": 4,
   "id": "15cbc37b",
   "metadata": {},
   "outputs": [],
   "source": [
    "# def detect_faces_haar(img_path, scaleFactor=1.05, minNeighbors=4, minSize=(40, 40)):\n",
    "#     img = cv2.imread(str(img_path))\n",
    "#     gray = cv2.cvtColor(img, cv2.COLOR_BGR2GRAY)\n",
    "\n",
    "#     faces = face_cascade.detectMultiScale(\n",
    "#         gray,\n",
    "#         scaleFactor=scaleFactor,\n",
    "#         minNeighbors=minNeighbors,\n",
    "#         minSize=minSize\n",
    "#     )\n",
    "\n",
    "#     for idx, (x, y, w, h) in enumerate(faces, start=1):\n",
    "#         cv2.rectangle(img, (x, y), (x+w, y+h), (0, 255, 0), 2)\n",
    "\n",
    "#         # Crop and save each face\n",
    "#         face_crop = img[y:y+h, x:x+w]\n",
    "#         crop_name = f\"{img_path.stem}_face_{idx}.jpg\"\n",
    "#         cv2.imwrite(str(cropped_dir_haar / crop_name), face_crop)\n",
    "\n",
    "#     # Save image with rectangles\n",
    "#     output_path = output_dir_haar / img_path.name\n",
    "#     cv2.imwrite(str(output_path), img)\n",
    "\n",
    "#     print(f\"{img_path.name}: {len(faces)} face(s) detected and cropped (HaarCascade).\")\n",
    "\n",
    "# def detect_faces_haar(img_path, scaleFactor=1.05, minNeighbors=4, minSize=(40, 40)):\n",
    "#     img = cv2.imread(str(img_path))\n",
    "#     if img is None:\n",
    "#         print(f\"Error: {img_path}\")\n",
    "#         return\n",
    "#     gray = cv2.cvtColor(img, cv2.COLOR_BGR2GRAY)\n",
    "\n",
    "#     faces = face_cascade.detectMultiScale(\n",
    "#         gray,\n",
    "#         scaleFactor=scaleFactor,\n",
    "#         minNeighbors=minNeighbors,\n",
    "#         minSize=minSize\n",
    "#     )\n",
    "\n",
    "#     if len(faces) == 0:\n",
    "#         no_face_detected.append(img_path)\n",
    "#     else:\n",
    "#         for idx, (x, y, w, h) in enumerate(faces, start=1):\n",
    "#             cv2.rectangle(img, (x, y), (x+w, y+h), (0, 255, 0), 2)\n",
    "#             face_crop = img[y:y+h, x:x+w]\n",
    "#             crop_name = f\"{img_path.stem}_face_{idx}.jpg\"\n",
    "#             cv2.imwrite(str(cropped_dir_haar / crop_name), face_crop)\n",
    "\n",
    "#     cv2.imwrite(str(output_dir_haar / img_path.name), img)\n",
    "#     print(f\"HaarCascade processed: {img_path.name}, faces detected: {len(faces)}\")\n",
    "\n",
    "def detect_faces_haar(img_path, is_pdf=False, scaleFactor=1.05, minNeighbors=4, minSize=(40, 40)):\n",
    "    img = cv2.imread(str(img_path))\n",
    "    if img is None:\n",
    "        print(f\"Error: {img_path}\")\n",
    "        return\n",
    "        \n",
    "    gray = cv2.cvtColor(img, cv2.COLOR_BGR2GRAY)\n",
    "    faces = face_cascade.detectMultiScale(\n",
    "        gray,\n",
    "        scaleFactor=scaleFactor,\n",
    "        minNeighbors=minNeighbors,\n",
    "        minSize=minSize\n",
    "    )\n",
    "\n",
    "    if len(faces) == 0:\n",
    "        no_face_detected.append(img_path)\n",
    "    else:\n",
    "        for idx, (x, y, w, h) in enumerate(faces, start=1):\n",
    "            # Solo dibujar rectángulo si no es PDF\n",
    "            if not is_pdf:  \n",
    "                cv2.rectangle(img, (x, y), (x+w, y+h), (0, 255, 0), 2)\n",
    "            \n",
    "            face_crop = img[y:y+h, x:x+w]\n",
    "            crop_name = f\"{img_path.stem}_face_{idx}.jpg\"\n",
    "            cv2.imwrite(str(cropped_dir_haar / crop_name), face_crop)\n",
    "\n",
    "    # Solo guardar imagen con rectángulos si no es PDF\n",
    "    if not is_pdf:\n",
    "        cv2.imwrite(str(output_dir_haar / img_path.name), img)\n",
    "    \n",
    "    print(f\"HaarCascade processed: {img_path.name}, faces detected: {len(faces)}\")"
   ]
  },
  {
   "cell_type": "code",
   "execution_count": 5,
   "id": "fa62a99d",
   "metadata": {},
   "outputs": [],
   "source": [
    "# Process the images\n",
    "image_counter = 0\n",
    "max_images = 25"
   ]
  },
  {
   "cell_type": "code",
   "execution_count": 6,
   "id": "950b5dd9",
   "metadata": {},
   "outputs": [
    {
     "name": "stdout",
     "output_type": "stream",
     "text": [
      "HaarCascade processed: 00.jpg, faces detected: 10\n",
      "HaarCascade processed: 01.jpg, faces detected: 5\n",
      "HaarCascade processed: 02.jpg, faces detected: 6\n",
      "HaarCascade processed: 03.jpg, faces detected: 3\n",
      "HaarCascade processed: 04.jpg, faces detected: 10\n",
      "HaarCascade processed: 05.jpg, faces detected: 4\n",
      "HaarCascade processed: 06.jpg, faces detected: 42\n",
      "HaarCascade processed: 07.jpg, faces detected: 101\n",
      "HaarCascade processed: 08.jpg, faces detected: 62\n",
      "HaarCascade processed: 09.jpg, faces detected: 4\n",
      "HaarCascade processed: 10.jpg, faces detected: 3\n",
      "HaarCascade processed: 11.jpg, faces detected: 6\n",
      "HaarCascade processed: 12.jpg, faces detected: 3\n",
      "HaarCascade processed: 13.jpg, faces detected: 5\n",
      "HaarCascade processed: 14.jpg, faces detected: 6\n",
      "HaarCascade processed: 15.jpg, faces detected: 6\n",
      "HaarCascade processed: 16.jpg, faces detected: 6\n",
      "HaarCascade processed: 17.jpg, faces detected: 12\n",
      "HaarCascade processed: 18.jpg, faces detected: 16\n",
      "HaarCascade processed: 19.jpg, faces detected: 10\n",
      "HaarCascade processed: 20.jpg, faces detected: 11\n",
      "HaarCascade processed: 21.jpg, faces detected: 7\n",
      "HaarCascade processed: 22.jpg, faces detected: 13\n",
      "HaarCascade processed: 23.jpg, faces detected: 12\n",
      "HaarCascade processed: 24.jpg, faces detected: 11\n"
     ]
    }
   ],
   "source": [
    "for folder in input_dir.iterdir():\n",
    "    if not folder.is_dir():\n",
    "        continue\n",
    "    for img_path in folder.glob(\"*.jpg\"):\n",
    "        if image_counter >= max_images:\n",
    "            break\n",
    "        detect_faces_haar(img_path)\n",
    "        image_counter += 1\n",
    "    if image_counter >= max_images:\n",
    "        break\n",
    "\n",
    "# for folder in input_dir.iterdir():\n",
    "#     if not folder.is_dir():\n",
    "#         continue\n",
    "#     for img_path in folder.glob(\"*.jpg\"):\n",
    "#         detect_faces_haar(img_path)"
   ]
  },
  {
   "cell_type": "code",
   "execution_count": 7,
   "id": "e16ea2a1",
   "metadata": {},
   "outputs": [
    {
     "name": "stdout",
     "output_type": "stream",
     "text": [
      "\n",
      "Total images without faces detected (HaarCascade): 0\n"
     ]
    }
   ],
   "source": [
    "# Show first 5 images without face\n",
    "print(f\"\\nTotal images without faces detected (HaarCascade): {len(no_face_detected)}\")\n",
    "\n",
    "for img_path in no_face_detected[:5]:\n",
    "    img = cv2.cvtColor(cv2.imread(str(img_path)), cv2.COLOR_BGR2RGB)\n",
    "    plt.imshow(img)\n",
    "    plt.title(f\"No face detected: {img_path.name}\")\n",
    "    plt.axis('off')\n",
    "    plt.show()"
   ]
  },
  {
   "cell_type": "markdown",
   "id": "03695870",
   "metadata": {},
   "source": [
    "---"
   ]
  },
  {
   "cell_type": "code",
   "execution_count": 8,
   "id": "a78e4e36",
   "metadata": {},
   "outputs": [],
   "source": [
    "# Directory containing PDF files\n",
    "pdf_dir = Path('pdfs')\n",
    "output_img_dir = Path('pdf_images_HaarCascade')\n",
    "output_img_dir.mkdir(parents=True, exist_ok=True)"
   ]
  },
  {
   "cell_type": "code",
   "execution_count": null,
   "id": "8cc66ae9",
   "metadata": {},
   "outputs": [],
   "source": [
    "# Convert each page of a PDF to a list of images.\n",
    "def pdf_to_images(pdf_path, output_dir, dpi=300):\n",
    "    pdf_document = fitz.open(str(pdf_path))\n",
    "    img_paths = []\n",
    "    \n",
    "    for page_num in range(len(pdf_document)):\n",
    "        page = pdf_document.load_page(page_num)\n",
    "        #72 is the native DPI of PDF\n",
    "        zoom = dpi / 72  \n",
    "        mat = fitz.Matrix(zoom, zoom)\n",
    "        pix = page.get_pixmap(matrix=mat)\n",
    "        \n",
    "        img_path = output_dir / f\"{pdf_path.stem}_page_{page_num+1}.png\"\n",
    "        pix.save(str(img_path))\n",
    "        img_paths.append(img_path)\n",
    "    \n",
    "    return img_paths"
   ]
  },
  {
   "cell_type": "code",
   "execution_count": 10,
   "id": "0650c1d5",
   "metadata": {},
   "outputs": [],
   "source": [
    "# Assuming face_cascade and directories are already defined as in your previous Haar code\n",
    "pdf_files = list(pdf_dir.glob(\"*.pdf\"))\n",
    "\n",
    "for pdf_file in pdf_files:\n",
    "    print(f\"Processing PDF: {pdf_file.name}\")\n",
    "    try:\n",
    "        img_paths = pdf_to_images(pdf_file, output_img_dir)\n",
    "        for img_path in img_paths:\n",
    "            detect_faces_haar(img_path)\n",
    "    except Exception as e:\n",
    "        print(f\"Error procesando {pdf_file.name}: {str(e)}\")"
   ]
  },
  {
   "cell_type": "code",
   "execution_count": null,
   "id": "6aaf7357",
   "metadata": {},
   "outputs": [],
   "source": [
    "def process_pdfs_haar():\n",
    "    pdf_dir = Path('pdfs')\n",
    "    pdf_cropped_dir = Path('pdf_cropped_faces_HaarCascade')\n",
    "    pdf_cropped_dir.mkdir(parents=True, exist_ok=True)\n",
    "    \n",
    "    pdf_files = list(pdf_dir.glob(\"*.pdf\"))\n",
    "    \n",
    "    for pdf_file in pdf_files:\n",
    "        print(f\"\\nProcessing PDF: {pdf_file.name}\")\n",
    "        try:\n",
    "            # Process each page of the PDF\n",
    "            pdf_document = fitz.open(str(pdf_file))\n",
    "            \n",
    "            for page_num in range(len(pdf_document)):\n",
    "                page = pdf_document.load_page(page_num)\n",
    "                # 300 DPI\n",
    "                zoom = 300 / 72  \n",
    "                mat = fitz.Matrix(zoom, zoom)\n",
    "                pix = page.get_pixmap(matrix=mat)\n",
    "                \n",
    "                # Convert to OpenCV format\n",
    "                img_array = np.frombuffer(pix.samples, dtype=np.uint8).reshape((pix.height, pix.width, 3))\n",
    "                img = cv2.cvtColor(img_array, cv2.COLOR_RGB2BGR)\n",
    "                gray = cv2.cvtColor(img, cv2.COLOR_BGR2GRAY)\n",
    "                \n",
    "                # Detect faces\n",
    "                faces = face_cascade.detectMultiScale(\n",
    "                    gray,\n",
    "                    scaleFactor=1.05,\n",
    "                    minNeighbors=4,\n",
    "                    minSize=(40, 40)\n",
    "                )\n",
    "                \n",
    "                if len(faces) == 0:\n",
    "                    print(f\"No faces detected in page {page_num+1}\")\n",
    "                    continue\n",
    "                \n",
    "                # Save each cropped face\n",
    "                for idx, (x, y, w, h) in enumerate(faces, start=1):\n",
    "                    face_crop = img[y:y+h, x:x+w]\n",
    "                    crop_name = f\"{pdf_file.stem}_page_{page_num+1}_face_{idx}.jpg\"\n",
    "                    cv2.imwrite(str(pdf_cropped_dir / crop_name), face_crop)\n",
    "                    print(f\"Saved: {crop_name}\")\n",
    "                    \n",
    "        except Exception as e:\n",
    "            print(f\"Error processing {pdf_file.name}: {str(e)}\")\n"
   ]
  },
  {
   "cell_type": "code",
   "execution_count": null,
   "id": "392c9303",
   "metadata": {},
   "outputs": [],
   "source": [
    "# Process PDFs\n",
    "process_pdfs_haar()"
   ]
  }
 ],
 "metadata": {
  "kernelspec": {
   "display_name": "Python 3",
   "language": "python",
   "name": "python3"
  },
  "language_info": {
   "codemirror_mode": {
    "name": "ipython",
    "version": 3
   },
   "file_extension": ".py",
   "mimetype": "text/x-python",
   "name": "python",
   "nbconvert_exporter": "python",
   "pygments_lexer": "ipython3",
   "version": "3.12.0"
  }
 },
 "nbformat": 4,
 "nbformat_minor": 5
}
