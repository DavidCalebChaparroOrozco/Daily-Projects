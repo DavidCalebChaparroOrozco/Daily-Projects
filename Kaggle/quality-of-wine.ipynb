{
 "cells": [
  {
   "cell_type": "code",
   "execution_count": 1,
   "id": "c4293c55",
   "metadata": {
    "_cell_guid": "b1076dfc-b9ad-4769-8c92-a6c4dae69d19",
    "_uuid": "8f2839f25d086af736a60e9eeb907d3b93b6e0e5",
    "execution": {
     "iopub.execute_input": "2021-09-23T22:45:01.040635Z",
     "iopub.status.busy": "2021-09-23T22:45:01.034781Z",
     "iopub.status.idle": "2021-09-23T22:45:02.231937Z",
     "shell.execute_reply": "2021-09-23T22:45:02.231289Z",
     "shell.execute_reply.started": "2021-09-23T22:43:57.619642Z"
    },
    "papermill": {
     "duration": 1.226786,
     "end_time": "2021-09-23T22:45:02.232157",
     "exception": false,
     "start_time": "2021-09-23T22:45:01.005371",
     "status": "completed"
    },
    "tags": []
   },
   "outputs": [
    {
     "name": "stdout",
     "output_type": "stream",
     "text": [
      "/kaggle/input/red-wine-quality-cortez-et-al-2009/winequality-red.csv\n"
     ]
    }
   ],
   "source": [
    "# Importing necessary libraries\n",
    "import numpy as np\n",
    "import pandas as pd\n",
    "import matplotlib.pyplot as plt\n",
    "import seaborn as sns\n",
    "from sklearn.preprocessing import StandardScaler, LabelEncoder\n",
    "from sklearn.model_selection import train_test_split, GridSearchCV, cross_val_score\n",
    "from sklearn.ensemble import RandomForestClassifier\n",
    "from sklearn.metrics import confusion_matrix, classification_report\n",
    "\n",
    "import os\n",
    "for dirname, _, filenames in os.walk('/kaggle/input'):\n",
    "    for filename in filenames:\n",
    "        print(os.path.join(dirname, filename))"
   ]
  },
  {
   "cell_type": "code",
   "execution_count": 2,
   "id": "920069e0",
   "metadata": {
    "execution": {
     "iopub.execute_input": "2021-09-23T22:45:02.277613Z",
     "iopub.status.busy": "2021-09-23T22:45:02.276908Z",
     "iopub.status.idle": "2021-09-23T22:45:02.318620Z",
     "shell.execute_reply": "2021-09-23T22:45:02.319072Z",
     "shell.execute_reply.started": "2021-09-23T22:43:57.631428Z"
    },
    "papermill": {
     "duration": 0.066402,
     "end_time": "2021-09-23T22:45:02.319239",
     "exception": false,
     "start_time": "2021-09-23T22:45:02.252837",
     "status": "completed"
    },
    "tags": []
   },
   "outputs": [
    {
     "data": {
      "text/html": [
       "<div>\n",
       "<style scoped>\n",
       "    .dataframe tbody tr th:only-of-type {\n",
       "        vertical-align: middle;\n",
       "    }\n",
       "\n",
       "    .dataframe tbody tr th {\n",
       "        vertical-align: top;\n",
       "    }\n",
       "\n",
       "    .dataframe thead th {\n",
       "        text-align: right;\n",
       "    }\n",
       "</style>\n",
       "<table border=\"1\" class=\"dataframe\">\n",
       "  <thead>\n",
       "    <tr style=\"text-align: right;\">\n",
       "      <th></th>\n",
       "      <th>fixed acidity</th>\n",
       "      <th>volatile acidity</th>\n",
       "      <th>citric acid</th>\n",
       "      <th>residual sugar</th>\n",
       "      <th>chlorides</th>\n",
       "      <th>free sulfur dioxide</th>\n",
       "      <th>total sulfur dioxide</th>\n",
       "      <th>density</th>\n",
       "      <th>pH</th>\n",
       "      <th>sulphates</th>\n",
       "      <th>alcohol</th>\n",
       "      <th>quality</th>\n",
       "    </tr>\n",
       "  </thead>\n",
       "  <tbody>\n",
       "    <tr>\n",
       "      <th>0</th>\n",
       "      <td>7.4</td>\n",
       "      <td>0.70</td>\n",
       "      <td>0.00</td>\n",
       "      <td>1.9</td>\n",
       "      <td>0.076</td>\n",
       "      <td>11.0</td>\n",
       "      <td>34.0</td>\n",
       "      <td>0.9978</td>\n",
       "      <td>3.51</td>\n",
       "      <td>0.56</td>\n",
       "      <td>9.4</td>\n",
       "      <td>5</td>\n",
       "    </tr>\n",
       "    <tr>\n",
       "      <th>1</th>\n",
       "      <td>7.8</td>\n",
       "      <td>0.88</td>\n",
       "      <td>0.00</td>\n",
       "      <td>2.6</td>\n",
       "      <td>0.098</td>\n",
       "      <td>25.0</td>\n",
       "      <td>67.0</td>\n",
       "      <td>0.9968</td>\n",
       "      <td>3.20</td>\n",
       "      <td>0.68</td>\n",
       "      <td>9.8</td>\n",
       "      <td>5</td>\n",
       "    </tr>\n",
       "    <tr>\n",
       "      <th>2</th>\n",
       "      <td>7.8</td>\n",
       "      <td>0.76</td>\n",
       "      <td>0.04</td>\n",
       "      <td>2.3</td>\n",
       "      <td>0.092</td>\n",
       "      <td>15.0</td>\n",
       "      <td>54.0</td>\n",
       "      <td>0.9970</td>\n",
       "      <td>3.26</td>\n",
       "      <td>0.65</td>\n",
       "      <td>9.8</td>\n",
       "      <td>5</td>\n",
       "    </tr>\n",
       "    <tr>\n",
       "      <th>3</th>\n",
       "      <td>11.2</td>\n",
       "      <td>0.28</td>\n",
       "      <td>0.56</td>\n",
       "      <td>1.9</td>\n",
       "      <td>0.075</td>\n",
       "      <td>17.0</td>\n",
       "      <td>60.0</td>\n",
       "      <td>0.9980</td>\n",
       "      <td>3.16</td>\n",
       "      <td>0.58</td>\n",
       "      <td>9.8</td>\n",
       "      <td>6</td>\n",
       "    </tr>\n",
       "    <tr>\n",
       "      <th>4</th>\n",
       "      <td>7.4</td>\n",
       "      <td>0.70</td>\n",
       "      <td>0.00</td>\n",
       "      <td>1.9</td>\n",
       "      <td>0.076</td>\n",
       "      <td>11.0</td>\n",
       "      <td>34.0</td>\n",
       "      <td>0.9978</td>\n",
       "      <td>3.51</td>\n",
       "      <td>0.56</td>\n",
       "      <td>9.4</td>\n",
       "      <td>5</td>\n",
       "    </tr>\n",
       "  </tbody>\n",
       "</table>\n",
       "</div>"
      ],
      "text/plain": [
       "   fixed acidity  volatile acidity  citric acid  residual sugar  chlorides  \\\n",
       "0            7.4              0.70         0.00             1.9      0.076   \n",
       "1            7.8              0.88         0.00             2.6      0.098   \n",
       "2            7.8              0.76         0.04             2.3      0.092   \n",
       "3           11.2              0.28         0.56             1.9      0.075   \n",
       "4            7.4              0.70         0.00             1.9      0.076   \n",
       "\n",
       "   free sulfur dioxide  total sulfur dioxide  density    pH  sulphates  \\\n",
       "0                 11.0                  34.0   0.9978  3.51       0.56   \n",
       "1                 25.0                  67.0   0.9968  3.20       0.68   \n",
       "2                 15.0                  54.0   0.9970  3.26       0.65   \n",
       "3                 17.0                  60.0   0.9980  3.16       0.58   \n",
       "4                 11.0                  34.0   0.9978  3.51       0.56   \n",
       "\n",
       "   alcohol  quality  \n",
       "0      9.4        5  \n",
       "1      9.8        5  \n",
       "2      9.8        5  \n",
       "3      9.8        6  \n",
       "4      9.4        5  "
      ]
     },
     "execution_count": 2,
     "metadata": {},
     "output_type": "execute_result"
    }
   ],
   "source": [
    "# Reading the dataset\n",
    "data_wine = pd.read_csv('../input/red-wine-quality-cortez-et-al-2009/winequality-red.csv')\n",
    "data_wine.head()"
   ]
  },
  {
   "cell_type": "code",
   "execution_count": 3,
   "id": "bc889912",
   "metadata": {
    "execution": {
     "iopub.execute_input": "2021-09-23T22:45:02.367729Z",
     "iopub.status.busy": "2021-09-23T22:45:02.366731Z",
     "iopub.status.idle": "2021-09-23T22:45:02.385829Z",
     "shell.execute_reply": "2021-09-23T22:45:02.384757Z",
     "shell.execute_reply.started": "2021-09-23T22:43:57.666430Z"
    },
    "papermill": {
     "duration": 0.046444,
     "end_time": "2021-09-23T22:45:02.385970",
     "exception": false,
     "start_time": "2021-09-23T22:45:02.339526",
     "status": "completed"
    },
    "tags": []
   },
   "outputs": [
    {
     "name": "stdout",
     "output_type": "stream",
     "text": [
      "<class 'pandas.core.frame.DataFrame'>\n",
      "RangeIndex: 1599 entries, 0 to 1598\n",
      "Data columns (total 12 columns):\n",
      " #   Column                Non-Null Count  Dtype  \n",
      "---  ------                --------------  -----  \n",
      " 0   fixed acidity         1599 non-null   float64\n",
      " 1   volatile acidity      1599 non-null   float64\n",
      " 2   citric acid           1599 non-null   float64\n",
      " 3   residual sugar        1599 non-null   float64\n",
      " 4   chlorides             1599 non-null   float64\n",
      " 5   free sulfur dioxide   1599 non-null   float64\n",
      " 6   total sulfur dioxide  1599 non-null   float64\n",
      " 7   density               1599 non-null   float64\n",
      " 8   pH                    1599 non-null   float64\n",
      " 9   sulphates             1599 non-null   float64\n",
      " 10  alcohol               1599 non-null   float64\n",
      " 11  quality               1599 non-null   int64  \n",
      "dtypes: float64(11), int64(1)\n",
      "memory usage: 150.0 KB\n"
     ]
    }
   ],
   "source": [
    "# Dataset information\n",
    "data_wine.info()"
   ]
  },
  {
   "cell_type": "code",
   "execution_count": 4,
   "id": "04b708a1",
   "metadata": {
    "execution": {
     "iopub.execute_input": "2021-09-23T22:45:02.434696Z",
     "iopub.status.busy": "2021-09-23T22:45:02.433673Z",
     "iopub.status.idle": "2021-09-23T22:45:02.872717Z",
     "shell.execute_reply": "2021-09-23T22:45:02.872097Z",
     "shell.execute_reply.started": "2021-09-23T22:43:57.682344Z"
    },
    "papermill": {
     "duration": 0.466383,
     "end_time": "2021-09-23T22:45:02.872868",
     "exception": false,
     "start_time": "2021-09-23T22:45:02.406485",
     "status": "completed"
    },
    "tags": []
   },
   "outputs": [
    {
     "data": {
      "text/plain": [
       "<AxesSubplot:xlabel='quality', ylabel='fixed acidity'>"
      ]
     },
     "execution_count": 4,
     "metadata": {},
     "output_type": "execute_result"
    },
    {
     "data": {
      "image/png": "[encoded data removed]",
      "text/plain": [
       "<Figure size 1152x648 with 1 Axes>"
      ]
     },
     "metadata": {
      "needs_background": "light"
     },
     "output_type": "display_data"
    }
   ],
   "source": [
    "# Visualizing quality distribution\n",
    "figure = plt.figure(figsize= (16,9))\n",
    "sns.barplot(x = 'quality', y = 'fixed acidity', data = data_wine)"
   ]
  },
  {
   "cell_type": "code",
   "execution_count": 5,
   "id": "e1843904",
   "metadata": {
    "execution": {
     "iopub.execute_input": "2021-09-23T22:45:02.921017Z",
     "iopub.status.busy": "2021-09-23T22:45:02.920365Z",
     "iopub.status.idle": "2021-09-23T22:45:03.309745Z",
     "shell.execute_reply": "2021-09-23T22:45:03.309168Z",
     "shell.execute_reply.started": "2021-09-23T22:43:58.097017Z"
    },
    "papermill": {
     "duration": 0.414193,
     "end_time": "2021-09-23T22:45:03.309871",
     "exception": false,
     "start_time": "2021-09-23T22:45:02.895678",
     "status": "completed"
    },
    "tags": []
   },
   "outputs": [
    {
     "data": {
      "text/plain": [
       "<AxesSubplot:xlabel='quality', ylabel='volatile acidity'>"
      ]
     },
     "execution_count": 5,
     "metadata": {},
     "output_type": "execute_result"
    },
    {
     "data": {
      "image/png": "[encoded data removed]",
      "text/plain": [
       "<Figure size 1152x648 with 1 Axes>"
      ]
     },
     "metadata": {
      "needs_background": "light"
     },
     "output_type": "display_data"
    }
   ],
   "source": [
    "# Preprocessing the target variable\n",
    "figure = plt.figure(figsize= (16,9))\n",
    "sns.barplot(x = 'quality', y = 'volatile acidity', data = data_wine)"
   ]
  },
  {
   "cell_type": "code",
   "execution_count": 6,
   "id": "25ad2540",
   "metadata": {
    "execution": {
     "iopub.execute_input": "2021-09-23T22:45:03.366043Z",
     "iopub.status.busy": "2021-09-23T22:45:03.365006Z",
     "iopub.status.idle": "2021-09-23T22:45:03.851235Z",
     "shell.execute_reply": "2021-09-23T22:45:03.851698Z",
     "shell.execute_reply.started": "2021-09-23T22:43:58.401735Z"
    },
    "papermill": {
     "duration": 0.51908,
     "end_time": "2021-09-23T22:45:03.851869",
     "exception": false,
     "start_time": "2021-09-23T22:45:03.332789",
     "status": "completed"
    },
    "tags": []
   },
   "outputs": [
    {
     "data": {
      "text/plain": [
       "<AxesSubplot:xlabel='quality', ylabel='citric acid'>"
      ]
     },
     "execution_count": 6,
     "metadata": {},
     "output_type": "execute_result"
    },
    {
     "data": {
      "image/png": "[encoded data removed]",
      "text/plain": [
       "<Figure size 1152x648 with 1 Axes>"
      ]
     },
     "metadata": {
      "needs_background": "light"
     },
     "output_type": "display_data"
    }
   ],
   "source": [
    "figure = plt.figure(figsize= (16,9))\n",
    "sns.barplot(x = 'quality', y = 'citric acid', data = data_wine)"
   ]
  },
  {
   "cell_type": "code",
   "execution_count": 7,
   "id": "269b3942",
   "metadata": {
    "execution": {
     "iopub.execute_input": "2021-09-23T22:45:03.909565Z",
     "iopub.status.busy": "2021-09-23T22:45:03.908537Z",
     "iopub.status.idle": "2021-09-23T22:45:04.300499Z",
     "shell.execute_reply": "2021-09-23T22:45:04.300936Z",
     "shell.execute_reply.started": "2021-09-23T22:43:58.809796Z"
    },
    "papermill": {
     "duration": 0.42389,
     "end_time": "2021-09-23T22:45:04.301120",
     "exception": false,
     "start_time": "2021-09-23T22:45:03.877230",
     "status": "completed"
    },
    "tags": []
   },
   "outputs": [
    {
     "data": {
      "text/plain": [
       "<AxesSubplot:xlabel='quality', ylabel='residual sugar'>"
      ]
     },
     "execution_count": 7,
     "metadata": {},
     "output_type": "execute_result"
    },
    {
     "data": {
      "image/png": "[encoded data removed]",
      "text/plain": [
       "<Figure size 1152x648 with 1 Axes>"
      ]
     },
     "metadata": {
      "needs_background": "light"
     },
     "output_type": "display_data"
    }
   ],
   "source": [
    "figure = plt.figure(figsize= (16,9))\n",
    "sns.barplot(x = 'quality', y = 'residual sugar', data = data_wine)"
   ]
  },
  {
   "cell_type": "code",
   "execution_count": 8,
   "id": "6ca8159b",
   "metadata": {
    "execution": {
     "iopub.execute_input": "2021-09-23T22:45:04.354207Z",
     "iopub.status.busy": "2021-09-23T22:45:04.353612Z",
     "iopub.status.idle": "2021-09-23T22:45:04.799384Z",
     "shell.execute_reply": "2021-09-23T22:45:04.798841Z",
     "shell.execute_reply.started": "2021-09-23T22:43:59.214725Z"
    },
    "papermill": {
     "duration": 0.473215,
     "end_time": "2021-09-23T22:45:04.799538",
     "exception": false,
     "start_time": "2021-09-23T22:45:04.326323",
     "status": "completed"
    },
    "tags": []
   },
   "outputs": [
    {
     "data": {
      "text/plain": [
       "<AxesSubplot:xlabel='quality', ylabel='chlorides'>"
      ]
     },
     "execution_count": 8,
     "metadata": {},
     "output_type": "execute_result"
    },
    {
     "data": {
      "image/png": "[encoded data removed]",
      "text/plain": [
       "<Figure size 1152x648 with 1 Axes>"
      ]
     },
     "metadata": {
      "needs_background": "light"
     },
     "output_type": "display_data"
    }
   ],
   "source": [
    "figure = plt.figure(figsize= (16,9))\n",
    "sns.barplot(x = 'quality', y = 'chlorides', data = data_wine)"
   ]
  },
  {
   "cell_type": "code",
   "execution_count": 9,
   "id": "8be05157",
   "metadata": {
    "execution": {
     "iopub.execute_input": "2021-09-23T22:45:04.855158Z",
     "iopub.status.busy": "2021-09-23T22:45:04.854500Z",
     "iopub.status.idle": "2021-09-23T22:45:05.313607Z",
     "shell.execute_reply": "2021-09-23T22:45:05.312961Z",
     "shell.execute_reply.started": "2021-09-23T22:43:59.631410Z"
    },
    "papermill": {
     "duration": 0.487673,
     "end_time": "2021-09-23T22:45:05.313743",
     "exception": false,
     "start_time": "2021-09-23T22:45:04.826070",
     "status": "completed"
    },
    "tags": []
   },
   "outputs": [
    {
     "data": {
      "text/plain": [
       "<AxesSubplot:xlabel='quality', ylabel='free sulfur dioxide'>"
      ]
     },
     "execution_count": 9,
     "metadata": {},
     "output_type": "execute_result"
    },
    {
     "data": {
      "image/png": "[encoded data removed]",
      "text/plain": [
       "<Figure size 1152x648 with 1 Axes>"
      ]
     },
     "metadata": {
      "needs_background": "light"
     },
     "output_type": "display_data"
    }
   ],
   "source": [
    "figure = plt.figure(figsize= (16,9))\n",
    "sns.barplot(x = 'quality', y = 'free sulfur dioxide', data = data_wine)"
   ]
  },
  {
   "cell_type": "code",
   "execution_count": 10,
   "id": "f6852754",
   "metadata": {
    "execution": {
     "iopub.execute_input": "2021-09-23T22:45:05.372252Z",
     "iopub.status.busy": "2021-09-23T22:45:05.371589Z",
     "iopub.status.idle": "2021-09-23T22:45:05.812074Z",
     "shell.execute_reply": "2021-09-23T22:45:05.812706Z",
     "shell.execute_reply.started": "2021-09-23T22:43:59.968736Z"
    },
    "papermill": {
     "duration": 0.471364,
     "end_time": "2021-09-23T22:45:05.812891",
     "exception": false,
     "start_time": "2021-09-23T22:45:05.341527",
     "status": "completed"
    },
    "tags": []
   },
   "outputs": [
    {
     "data": {
      "text/plain": [
       "<AxesSubplot:xlabel='quality', ylabel='total sulfur dioxide'>"
      ]
     },
     "execution_count": 10,
     "metadata": {},
     "output_type": "execute_result"
    },
    {
     "data": {
      "image/png": "[encoded data removed]",
      "text/plain": [
       "<Figure size 1152x648 with 1 Axes>"
      ]
     },
     "metadata": {
      "needs_background": "light"
     },
     "output_type": "display_data"
    }
   ],
   "source": [
    "figure = plt.figure(figsize= (16,9))\n",
    "sns.barplot(x = 'quality', y = 'total sulfur dioxide', data = data_wine)"
   ]
  },
  {
   "cell_type": "code",
   "execution_count": 11,
   "id": "b9f644fe",
   "metadata": {
    "execution": {
     "iopub.execute_input": "2021-09-23T22:45:05.880942Z",
     "iopub.status.busy": "2021-09-23T22:45:05.878617Z",
     "iopub.status.idle": "2021-09-23T22:45:06.343034Z",
     "shell.execute_reply": "2021-09-23T22:45:06.343536Z",
     "shell.execute_reply.started": "2021-09-23T22:44:00.296928Z"
    },
    "papermill": {
     "duration": 0.501528,
     "end_time": "2021-09-23T22:45:06.343720",
     "exception": false,
     "start_time": "2021-09-23T22:45:05.842192",
     "status": "completed"
    },
    "tags": []
   },
   "outputs": [
    {
     "data": {
      "text/plain": [
       "<AxesSubplot:xlabel='quality', ylabel='sulphates'>"
      ]
     },
     "execution_count": 11,
     "metadata": {},
     "output_type": "execute_result"
    },
    {
     "data": {
      "image/png": "[encoded data removed]",
      "text/plain": [
       "<Figure size 1152x648 with 1 Axes>"
      ]
     },
     "metadata": {
      "needs_background": "light"
     },
     "output_type": "display_data"
    }
   ],
   "source": [
    "figure = plt.figure(figsize= (16,9))\n",
    "sns.barplot(x = 'quality', y = 'sulphates', data = data_wine)"
   ]
  },
  {
   "cell_type": "code",
   "execution_count": 12,
   "id": "8bd57a3e",
   "metadata": {
    "execution": {
     "iopub.execute_input": "2021-09-23T22:45:06.411956Z",
     "iopub.status.busy": "2021-09-23T22:45:06.407996Z",
     "iopub.status.idle": "2021-09-23T22:45:06.834517Z",
     "shell.execute_reply": "2021-09-23T22:45:06.833824Z",
     "shell.execute_reply.started": "2021-09-23T22:44:00.628646Z"
    },
    "papermill": {
     "duration": 0.46001,
     "end_time": "2021-09-23T22:45:06.834662",
     "exception": false,
     "start_time": "2021-09-23T22:45:06.374652",
     "status": "completed"
    },
    "tags": []
   },
   "outputs": [
    {
     "data": {
      "text/plain": [
       "<AxesSubplot:xlabel='quality', ylabel='alcohol'>"
      ]
     },
     "execution_count": 12,
     "metadata": {},
     "output_type": "execute_result"
    },
    {
     "data": {
      "image/png": "[encoded data removed]",
      "text/plain": [
       "<Figure size 1152x648 with 1 Axes>"
      ]
     },
     "metadata": {
      "needs_background": "light"
     },
     "output_type": "display_data"
    }
   ],
   "source": [
    "figure = plt.figure(figsize= (16,9))\n",
    "sns.barplot(x = 'quality', y = 'alcohol', data = data_wine)"
   ]
  },
  {
   "cell_type": "code",
   "execution_count": 13,
   "id": "dc8ceb9d",
   "metadata": {
    "execution": {
     "iopub.execute_input": "2021-09-23T22:45:06.910567Z",
     "iopub.status.busy": "2021-09-23T22:45:06.908575Z",
     "iopub.status.idle": "2021-09-23T22:45:06.912930Z",
     "shell.execute_reply": "2021-09-23T22:45:06.912373Z",
     "shell.execute_reply.started": "2021-09-23T22:44:00.955251Z"
    },
    "papermill": {
     "duration": 0.044778,
     "end_time": "2021-09-23T22:45:06.913094",
     "exception": false,
     "start_time": "2021-09-23T22:45:06.868316",
     "status": "completed"
    },
    "tags": []
   },
   "outputs": [],
   "source": [
    "# Preprocessing the target variable\n",
    "bins = (2, 6.5, 8)\n",
    "group_names = ['bad', 'good']\n",
    "data_wine['quality'] = pd.cut(data_wine['quality'], bins = bins, labels = group_names)"
   ]
  },
  {
   "cell_type": "code",
   "execution_count": 14,
   "id": "7000026f",
   "metadata": {
    "execution": {
     "iopub.execute_input": "2021-09-23T22:45:06.984926Z",
     "iopub.status.busy": "2021-09-23T22:45:06.983390Z",
     "iopub.status.idle": "2021-09-23T22:45:06.987864Z",
     "shell.execute_reply": "2021-09-23T22:45:06.988325Z",
     "shell.execute_reply.started": "2021-09-23T22:44:00.966597Z"
    },
    "papermill": {
     "duration": 0.041636,
     "end_time": "2021-09-23T22:45:06.988485",
     "exception": false,
     "start_time": "2021-09-23T22:45:06.946849",
     "status": "completed"
    },
    "tags": []
   },
   "outputs": [],
   "source": [
    "label_quality = LabelEncoder()"
   ]
  },
  {
   "cell_type": "code",
   "execution_count": 15,
   "id": "676be26c",
   "metadata": {
    "execution": {
     "iopub.execute_input": "2021-09-23T22:45:07.056447Z",
     "iopub.status.busy": "2021-09-23T22:45:07.055774Z",
     "iopub.status.idle": "2021-09-23T22:45:07.058313Z",
     "shell.execute_reply": "2021-09-23T22:45:07.057770Z",
     "shell.execute_reply.started": "2021-09-23T22:44:00.976132Z"
    },
    "papermill": {
     "duration": 0.039555,
     "end_time": "2021-09-23T22:45:07.058455",
     "exception": false,
     "start_time": "2021-09-23T22:45:07.018900",
     "status": "completed"
    },
    "tags": []
   },
   "outputs": [],
   "source": [
    "data_wine['quality'] = label_quality.fit_transform(data_wine['quality'])"
   ]
  },
  {
   "cell_type": "code",
   "execution_count": 16,
   "id": "7a2837f6",
   "metadata": {
    "execution": {
     "iopub.execute_input": "2021-09-23T22:45:07.127364Z",
     "iopub.status.busy": "2021-09-23T22:45:07.126705Z",
     "iopub.status.idle": "2021-09-23T22:45:07.130559Z",
     "shell.execute_reply": "2021-09-23T22:45:07.130042Z",
     "shell.execute_reply.started": "2021-09-23T22:44:00.992576Z"
    },
    "papermill": {
     "duration": 0.041439,
     "end_time": "2021-09-23T22:45:07.130688",
     "exception": false,
     "start_time": "2021-09-23T22:45:07.089249",
     "status": "completed"
    },
    "tags": []
   },
   "outputs": [
    {
     "data": {
      "text/plain": [
       "0    1382\n",
       "1     217\n",
       "Name: quality, dtype: int64"
      ]
     },
     "execution_count": 16,
     "metadata": {},
     "output_type": "execute_result"
    }
   ],
   "source": [
    "data_wine['quality'].value_counts()"
   ]
  },
  {
   "cell_type": "code",
   "execution_count": 17,
   "id": "d2a647a5",
   "metadata": {
    "execution": {
     "iopub.execute_input": "2021-09-23T22:45:07.197212Z",
     "iopub.status.busy": "2021-09-23T22:45:07.196488Z",
     "iopub.status.idle": "2021-09-23T22:45:07.380226Z",
     "shell.execute_reply": "2021-09-23T22:45:07.380712Z",
     "shell.execute_reply.started": "2021-09-23T22:44:01.014779Z"
    },
    "papermill": {
     "duration": 0.219496,
     "end_time": "2021-09-23T22:45:07.380876",
     "exception": false,
     "start_time": "2021-09-23T22:45:07.161380",
     "status": "completed"
    },
    "tags": []
   },
   "outputs": [
    {
     "name": "stderr",
     "output_type": "stream",
     "text": [
      "/opt/conda/lib/python3.7/site-packages/seaborn/_decorators.py:43: FutureWarning: Pass the following variable as a keyword arg: x. From version 0.12, the only valid positional argument will be `data`, and passing other arguments without an explicit keyword will result in an error or misinterpretation.\n",
      "  FutureWarning\n"
     ]
    },
    {
     "data": {
      "text/plain": [
       "<AxesSubplot:xlabel='quality', ylabel='count'>"
      ]
     },
     "execution_count": 17,
     "metadata": {},
     "output_type": "execute_result"
    },
    {
     "data": {
      "image/png": "[encoded data removed]",
      "text/plain": [
       "<Figure size 432x288 with 1 Axes>"
      ]
     },
     "metadata": {
      "needs_background": "light"
     },
     "output_type": "display_data"
    }
   ],
   "source": [
    "sns.countplot(data_wine['quality'])"
   ]
  },
  {
   "cell_type": "code",
   "execution_count": 18,
   "id": "2802831b",
   "metadata": {
    "execution": {
     "iopub.execute_input": "2021-09-23T22:45:07.448650Z",
     "iopub.status.busy": "2021-09-23T22:45:07.448032Z",
     "iopub.status.idle": "2021-09-23T22:45:07.454450Z",
     "shell.execute_reply": "2021-09-23T22:45:07.454989Z",
     "shell.execute_reply.started": "2021-09-23T22:44:01.157524Z"
    },
    "papermill": {
     "duration": 0.041681,
     "end_time": "2021-09-23T22:45:07.455196",
     "exception": false,
     "start_time": "2021-09-23T22:45:07.413515",
     "status": "completed"
    },
    "tags": []
   },
   "outputs": [],
   "source": [
    "# Data preprocessing\n",
    "X = data_wine.drop('quality', axis = 1)\n",
    "y = data_wine['quality']"
   ]
  },
  {
   "cell_type": "code",
   "execution_count": 19,
   "id": "105daa4a",
   "metadata": {
    "execution": {
     "iopub.execute_input": "2021-09-23T22:45:07.541457Z",
     "iopub.status.busy": "2021-09-23T22:45:07.540778Z",
     "iopub.status.idle": "2021-09-23T22:45:07.545182Z",
     "shell.execute_reply": "2021-09-23T22:45:07.544619Z",
     "shell.execute_reply.started": "2021-09-23T22:44:01.167722Z"
    },
    "papermill": {
     "duration": 0.050389,
     "end_time": "2021-09-23T22:45:07.545317",
     "exception": false,
     "start_time": "2021-09-23T22:45:07.494928",
     "status": "completed"
    },
    "tags": []
   },
   "outputs": [],
   "source": [
    "X_train, X_test, y_train, y_test = train_test_split(X, y, test_size = 0.2, random_state = 42)"
   ]
  },
  {
   "cell_type": "code",
   "execution_count": 20,
   "id": "9c0e65d4",
   "metadata": {
    "execution": {
     "iopub.execute_input": "2021-09-23T22:45:07.617392Z",
     "iopub.status.busy": "2021-09-23T22:45:07.616411Z",
     "iopub.status.idle": "2021-09-23T22:45:07.620162Z",
     "shell.execute_reply": "2021-09-23T22:45:07.620730Z",
     "shell.execute_reply.started": "2021-09-23T22:44:01.180454Z"
    },
    "papermill": {
     "duration": 0.042544,
     "end_time": "2021-09-23T22:45:07.620924",
     "exception": false,
     "start_time": "2021-09-23T22:45:07.578380",
     "status": "completed"
    },
    "tags": []
   },
   "outputs": [],
   "source": [
    "sc = StandardScaler()"
   ]
  },
  {
   "cell_type": "code",
   "execution_count": 21,
   "id": "b55f00d6",
   "metadata": {
    "execution": {
     "iopub.execute_input": "2021-09-23T22:45:07.694855Z",
     "iopub.status.busy": "2021-09-23T22:45:07.693791Z",
     "iopub.status.idle": "2021-09-23T22:45:07.701497Z",
     "shell.execute_reply": "2021-09-23T22:45:07.701940Z",
     "shell.execute_reply.started": "2021-09-23T22:44:01.195297Z"
    },
    "papermill": {
     "duration": 0.04793,
     "end_time": "2021-09-23T22:45:07.702123",
     "exception": false,
     "start_time": "2021-09-23T22:45:07.654193",
     "status": "completed"
    },
    "tags": []
   },
   "outputs": [],
   "source": [
    "X_train = sc.fit_transform(X_train)\n",
    "X_test = sc.fit_transform(X_test)"
   ]
  },
  {
   "cell_type": "code",
   "execution_count": 22,
   "id": "a45fd3c0",
   "metadata": {
    "execution": {
     "iopub.execute_input": "2021-09-23T22:45:07.796729Z",
     "iopub.status.busy": "2021-09-23T22:45:07.775534Z",
     "iopub.status.idle": "2021-09-23T22:45:08.479263Z",
     "shell.execute_reply": "2021-09-23T22:45:08.478590Z",
     "shell.execute_reply.started": "2021-09-23T22:44:01.213698Z"
    },
    "papermill": {
     "duration": 0.743172,
     "end_time": "2021-09-23T22:45:08.479408",
     "exception": false,
     "start_time": "2021-09-23T22:45:07.736236",
     "status": "completed"
    },
    "tags": []
   },
   "outputs": [],
   "source": [
    "# Random Forest Classifier\n",
    "rfc = RandomForestClassifier(n_estimators=200)\n",
    "rfc.fit(X_train, y_train)\n",
    "pred_rfc = rfc.predict(X_test)"
   ]
  },
  {
   "cell_type": "code",
   "execution_count": 23,
   "id": "840ad8ae",
   "metadata": {
    "execution": {
     "iopub.execute_input": "2021-09-23T22:45:08.547721Z",
     "iopub.status.busy": "2021-09-23T22:45:08.547085Z",
     "iopub.status.idle": "2021-09-23T22:45:08.555459Z",
     "shell.execute_reply": "2021-09-23T22:45:08.555963Z",
     "shell.execute_reply.started": "2021-09-23T22:44:01.761057Z"
    },
    "papermill": {
     "duration": 0.044369,
     "end_time": "2021-09-23T22:45:08.556165",
     "exception": false,
     "start_time": "2021-09-23T22:45:08.511796",
     "status": "completed"
    },
    "tags": []
   },
   "outputs": [
    {
     "name": "stdout",
     "output_type": "stream",
     "text": [
      "              precision    recall  f1-score   support\n",
      "\n",
      "           0       0.90      0.98      0.94       273\n",
      "           1       0.73      0.34      0.46        47\n",
      "\n",
      "    accuracy                           0.88       320\n",
      "   macro avg       0.81      0.66      0.70       320\n",
      "weighted avg       0.87      0.88      0.87       320\n",
      "\n"
     ]
    }
   ],
   "source": [
    "# Classification report\n",
    "print(classification_report(y_test, pred_rfc))"
   ]
  },
  {
   "cell_type": "code",
   "execution_count": 24,
   "id": "51142ccd",
   "metadata": {
    "execution": {
     "iopub.execute_input": "2021-09-23T22:45:08.626332Z",
     "iopub.status.busy": "2021-09-23T22:45:08.625655Z",
     "iopub.status.idle": "2021-09-23T22:45:08.632584Z",
     "shell.execute_reply": "2021-09-23T22:45:08.633242Z",
     "shell.execute_reply.started": "2021-09-23T22:44:01.773810Z"
    },
    "papermill": {
     "duration": 0.044836,
     "end_time": "2021-09-23T22:45:08.633509",
     "exception": false,
     "start_time": "2021-09-23T22:45:08.588673",
     "status": "completed"
    },
    "tags": []
   },
   "outputs": [
    {
     "name": "stdout",
     "output_type": "stream",
     "text": [
      "[[267   6]\n",
      " [ 31  16]]\n"
     ]
    }
   ],
   "source": [
    "# Confusion matrix\n",
    "print(confusion_matrix(y_test, pred_rfc))"
   ]
  }
 ],
 "metadata": {
  "kernelspec": {
   "display_name": "Python 3",
   "language": "python",
   "name": "python3"
  },
  "language_info": {
   "codemirror_mode": {
    "name": "ipython",
    "version": 3
   },
   "file_extension": ".py",
   "mimetype": "text/x-python",
   "name": "python",
   "nbconvert_exporter": "python",
   "pygments_lexer": "ipython3",
   "version": "3.7.10"
  },
  "papermill": {
   "default_parameters": {},
   "duration": 16.778031,
   "end_time": "2021-09-23T22:45:09.965417",
   "environment_variables": {},
   "exception": null,
   "input_path": "__notebook__.ipynb",
   "output_path": "__notebook__.ipynb",
   "parameters": {},
   "start_time": "2021-09-23T22:44:53.187386",
   "version": "2.3.3"
  }
 },
 "nbformat": 4,
 "nbformat_minor": 5
}
