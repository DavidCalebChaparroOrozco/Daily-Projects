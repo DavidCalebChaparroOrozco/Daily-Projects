{
  "nbformat": 4,
  "nbformat_minor": 0,
  "metadata": {
    "colab": {
      "private_outputs": true,
      "provenance": []
    },
    "kernelspec": {
      "name": "python3",
      "display_name": "Python 3"
    },
    "language_info": {
      "name": "python"
    }
  },
  "cells": [
    {
      "cell_type": "code",
      "source": [
        "!pip install ucimlrepo\n",
        "!pip install nltk"
      ],
      "metadata": {
        "id": "lIBAUJhK2hii"
      },
      "execution_count": null,
      "outputs": []
    },
    {
      "cell_type": "code",
      "source": [
        "# Import necessary libraries\n",
        "from ucimlrepo import fetch_ucirepo\n",
        "\n",
        "import pandas as pd\n",
        "import plotly.graph_objects as go\n",
        "from plotly.subplots import make_subplots\n",
        "import plotly.express as px\n",
        "\n",
        "import numpy as np\n",
        "\n",
        "import matplotlib.pyplot as plt\n",
        "import seaborn as sns\n",
        "\n",
        "from scipy.stats import skew\n",
        "from sklearn.ensemble import RandomForestClassifier\n",
        "from sklearn.model_selection import train_test_split\n",
        "from sklearn.metrics import classification_report, roc_auc_score\n",
        "\n",
        "from wordcloud import WordCloud\n",
        "import warnings\n",
        "warnings.filterwarnings(\"ignore\")"
      ],
      "metadata": {
        "id": "S_88iseb2e33"
      },
      "execution_count": null,
      "outputs": []
    },
    {
      "cell_type": "code",
      "source": [
        "# Load the dataset from UCI Machine Learning Repository\n",
        "# fetch dataset\n",
        "bank_marketing = fetch_ucirepo(id=222)\n",
        "\n",
        "# data (as pandas dataframes)\n",
        "data = bank_marketing.data.features\n",
        "data_targets = bank_marketing.data.targets\n",
        "data.head()"
      ],
      "metadata": {
        "id": "NbyCzZvi2mfN"
      },
      "execution_count": null,
      "outputs": []
    },
    {
      "cell_type": "markdown",
      "source": [
        "# Exploring the data"
      ],
      "metadata": {
        "id": "VXBNM2yl3Vgf"
      }
    },
    {
      "cell_type": "code",
      "source": [
        "data.info()"
      ],
      "metadata": {
        "id": "RYzftJeR3Z2u"
      },
      "execution_count": null,
      "outputs": []
    },
    {
      "cell_type": "code",
      "source": [
        "# metadata\n",
        "print(bank_marketing.metadata)"
      ],
      "metadata": {
        "id": "Swx2k2t43zKi"
      },
      "execution_count": null,
      "outputs": []
    },
    {
      "cell_type": "code",
      "source": [
        "# Variable information\n",
        "print(bank_marketing.variables)"
      ],
      "metadata": {
        "id": "W1CgxObp3_Ib"
      },
      "execution_count": null,
      "outputs": []
    },
    {
      "cell_type": "markdown",
      "source": [
        "# Fields and Data Types"
      ],
      "metadata": {
        "id": "mNcjaMtd4Hca"
      }
    },
    {
      "cell_type": "markdown",
      "source": [
        "# Understanding Data"
      ],
      "metadata": {
        "id": "HrP15kSM4Vd-"
      }
    },
    {
      "cell_type": "code",
      "source": [
        "# Comprehensive dataset overview\n",
        "def dataset_overview(df):\n",
        "    print(f\"\\n{' Dataset Overview ':=^80}\")\n",
        "    print(f\"Shape: {df.shape}\")\n",
        "    print(\"\\nData Types:\")\n",
        "    print(df.dtypes)\n",
        "    print(\"\\nMissing Values:\")\n",
        "    print(df.isnull().sum())\n",
        "    print(\"\\nDescriptive Statistics:\")\n",
        "    print(df.describe(include='all'))\n",
        "    print(\"\\nUnique Counts:\")\n",
        "    print(pd.DataFrame({col: df[col].nunique() for col in df.columns}, index=['Unique Count']).T)\n",
        "dataset_overview(data)"
      ],
      "metadata": {
        "id": "4yfM28_m4F_k"
      },
      "execution_count": null,
      "outputs": []
    },
    {
      "cell_type": "code",
      "source": [
        "# Display column names of the dataset\n",
        "data.columns.values\n",
        "\n",
        "# day_of_week and month **"
      ],
      "metadata": {
        "id": "CPt2MkpU4d21"
      },
      "execution_count": null,
      "outputs": []
    },
    {
      "cell_type": "code",
      "source": [
        "# Count the ocurrences of each Country in the dataset\n",
        "data.month.value_counts()\n",
        "\n",
        "# ** married = 3 divorced and 2 single"
      ],
      "metadata": {
        "id": "Lez-lp8I4syQ"
      },
      "execution_count": null,
      "outputs": []
    },
    {
      "cell_type": "code",
      "source": [
        "data.head()"
      ],
      "metadata": {
        "id": "L731SaOo5F0K"
      },
      "execution_count": null,
      "outputs": []
    },
    {
      "cell_type": "code",
      "source": [
        "plt.figure(figsize=(10,6))\n",
        "sns.countplot(x='day_of_week',data=data, palette='viridis')\n",
        "plt.xticks(rotation=90)\n",
        "plt.title(\"Number of Countries in the Dataset\")\n",
        "plt.xlabel(\"day_of_week\")\n",
        "plt.ylabel(\"Count\")\n",
        "plt.show()"
      ],
      "metadata": {
        "id": "2meYRSVU6T46"
      },
      "execution_count": null,
      "outputs": []
    },
    {
      "cell_type": "markdown",
      "source": [
        "# Missing values and negatives quantities"
      ],
      "metadata": {
        "id": "ozToOJIH7CRD"
      }
    },
    {
      "cell_type": "code",
      "source": [
        "# Check for missing values\n",
        "print(data.isnull().sum())"
      ],
      "metadata": {
        "id": "PeV1loZX7Gid"
      },
      "execution_count": null,
      "outputs": []
    },
    {
      "cell_type": "code",
      "source": [
        "data.shape"
      ],
      "metadata": {
        "id": "XYSiSJk95Tao"
      },
      "execution_count": null,
      "outputs": []
    },
    {
      "cell_type": "code",
      "source": [
        "data[\"contact\"].unique()"
      ],
      "metadata": {
        "id": "CyqRNe6X8JHO"
      },
      "execution_count": null,
      "outputs": []
    },
    {
      "cell_type": "code",
      "source": [
        "# replace NaN values\n",
        "# data[\"contact\"] = data[\"contact\"].fillna(\"Others\")\n",
        "# print(data[\"contact\"])"
      ],
      "metadata": {
        "id": "BWxP11EW9PSI"
      },
      "execution_count": null,
      "outputs": []
    },
    {
      "cell_type": "code",
      "source": [
        "# Job\n",
        "print(data[\"job\"].unique())\n",
        "\n",
        "# Education\n",
        "print(data[\"education\"].unique())\n",
        "\n",
        "# Poutcome\n",
        "print(data[\"poutcome\"].unique())\n",
        "\n",
        "# Contact\n",
        "print(data[\"contact\"].unique())"
      ],
      "metadata": {
        "id": "tPttyGuTDW2T"
      },
      "execution_count": null,
      "outputs": []
    },
    {
      "cell_type": "code",
      "source": [
        "def replaceNaNvaluesOther(data: pd.DataFrame, column_name: str) -> pd.Series:\n",
        "    if column_name in data.columns:\n",
        "        data[column_name] = data[column_name].fillna(\"other\")\n",
        "        return data[column_name]\n",
        "    else:\n",
        "        print(f\"La columna '{column_name}' no existe en el DataFrame.\")\n",
        "        return pd.Series()"
      ],
      "metadata": {
        "id": "6WraAJSq93wD"
      },
      "execution_count": null,
      "outputs": []
    },
    {
      "cell_type": "code",
      "source": [
        "# Job\n",
        "print(\"=\".center(50,\"=\"))\n",
        "replaceNaNvaluesOther(data,\"job\")\n",
        "print(data[\"job\"])\n",
        "\n",
        "# Education\n",
        "print(\"=\".center(50,\"=\"))\n",
        "replaceNaNvaluesOther(data,\"education\")\n",
        "print(data[\"education\"])\n",
        "\n",
        "# Poutcome\n",
        "print(\"=\".center(50,\"=\"))\n",
        "replaceNaNvaluesOther(data,\"poutcome\")\n",
        "print(data[\"poutcome\"])\n",
        "\n",
        "# Contact\n",
        "print(\"=\".center(50,\"=\"))\n",
        "replaceNaNvaluesOther(data,\"contact\")\n",
        "print(data[\"contact\"])"
      ],
      "metadata": {
        "id": "Ng6K-kQDB1hl"
      },
      "execution_count": null,
      "outputs": []
    },
    {
      "cell_type": "code",
      "source": [
        "# Check for missing values\n",
        "print(data.isnull().sum())"
      ],
      "metadata": {
        "id": "KTmgXLmRD2Sp"
      },
      "execution_count": null,
      "outputs": []
    },
    {
      "cell_type": "code",
      "source": [
        "data.head()"
      ],
      "metadata": {
        "id": "YQDaD8uIEn-a"
      },
      "execution_count": null,
      "outputs": []
    },
    {
      "cell_type": "markdown",
      "source": [
        "# EDA (Exploratory Data Analysis)"
      ],
      "metadata": {
        "id": "lnAwvqSpFaFD"
      }
    },
    {
      "cell_type": "code",
      "source": [
        "from ucimlrepo import fetch_ucirepo\n",
        "import pandas as pd\n",
        "import matplotlib.pyplot as plt\n",
        "import seaborn as sns\n",
        "from scipy.stats import skew\n",
        "import numpy as np\n",
        "from wordcloud import WordCloud\n",
        "import plotly.graph_objects as go\n",
        "from plotly.subplots import make_subplots\n",
        "\n",
        "\n",
        "def analyze_month_adapted(data, month, color, month_column='month'):\n",
        "    \"\"\"\n",
        "    Analyzes customer data for a specific month with visualizations (excluding NLP).\n",
        "\n",
        "    Parameters:\n",
        "        data: DataFrame containing the customer dataset.\n",
        "        month: Name of the month to analyze.\n",
        "        color: Primary color for visualizations.\n",
        "        month_column: Name of the column containing the month information.\n",
        "    \"\"\"\n",
        "    # Filter data for the specified month\n",
        "    monthly_data = data[data[month_column] == month].copy()\n",
        "    if monthly_data.empty:\n",
        "        print(f\"No data available for the month: {month}\")\n",
        "        return\n",
        "\n",
        "    # Initial setup\n",
        "    background_color = \"#f8fafc\"\n",
        "    plt.style.use('seaborn-v0_8-whitegrid')\n",
        "\n",
        "    # Set up the figure\n",
        "    fig = plt.figure(figsize=(24, 25)) # Adjusted figure height\n",
        "    gs = fig.add_gridspec(5, 2) # Adjusted grid layout\n",
        "    gs.update(wspace=0.5, hspace=0.8)\n",
        "\n",
        "    # Create axes\n",
        "    axes = [fig.add_subplot(gs[i, j]) for i in range(5) for j in range(2)]\n",
        "    for ax in axes:\n",
        "        ax.set_facecolor(background_color)\n",
        "\n",
        "    # Main title\n",
        "    axes[0].axis('off')\n",
        "    axes[0].text(0.5, 0.5,\n",
        "                    f'{month} Customer Analysis\\n_________________________',\n",
        "                    horizontalalignment='center',\n",
        "                    verticalalignment='center',\n",
        "                    fontsize=18, fontweight='bold',\n",
        "                    fontfamily='serif',\n",
        "                    color=\"#000000\")\n",
        "\n",
        "    # 1. Distribution of Age\n",
        "    sns.histplot(ax=axes[1], data=monthly_data, x='age', bins=30, kde=True, color=color)\n",
        "    axes[1].set_title(f'{month} Age Distribution', fontsize=14, fontweight='bold')\n",
        "    axes[1].set_xlabel('Age')\n",
        "    axes[1].set_ylabel('Number of Customers')\n",
        "    axes[1].grid(True, linestyle='--', alpha=0.6)\n",
        "\n",
        "    # 2. Marital Status Distribution\n",
        "    marital_counts = monthly_data['marital'].value_counts()\n",
        "    axes[2].pie(marital_counts, labels=marital_counts.index, autopct='%1.1f%%', startangle=140, colors=sns.color_palette(n_colors=len(marital_counts)))\n",
        "    axes[2].set_title(f'{month} Marital Status Distribution', fontsize=14, fontweight='bold')\n",
        "\n",
        "    # 3. Education Level Distribution\n",
        "    #education_counts = monthly_data['education'].value_counts()\n",
        "    #sns.barplot(ax=axes[3], x=education_counts.index, y=education_counts.values, color=color)\n",
        "    #axes[3].set_title(f'{month} Education Level Distribution', fontsize=14, fontweight='bold')\n",
        "    #axes[3].set_xlabel('Education Level')\n",
        "    #axes[3].set_ylabel('Number of Customers')\n",
        "    #axes[3].tick_params(axis='x', rotation=45, ha='left') # Corrected line\n",
        "    #axes[3].grid(axis='y', linestyle='--', alpha=0.6)\n",
        "\n",
        "    # 4. Balance Distribution\n",
        "    sns.histplot(ax=axes[4], data=monthly_data, x='balance', bins=50, kde=True, color=color)\n",
        "    axes[4].set_title(f'{month} Balance Distribution', fontsize=14, fontweight='bold')\n",
        "    axes[4].set_xlabel('Account Balance')\n",
        "    axes[4].set_ylabel('Number of Customers')\n",
        "    axes[4].grid(True, linestyle='--', alpha=0.6)\n",
        "\n",
        "    # 5. Housing Loan vs Personal Loan\n",
        "    loan_housing = monthly_data.groupby(['housing', 'loan']).size().unstack()\n",
        "    loan_housing.plot(kind='bar', stacked=True, ax=axes[5], color=sns.color_palette()[:2])\n",
        "    axes[5].set_title(f'{month} Housing Loan vs Personal Loan', fontsize=14, fontweight='bold')\n",
        "    axes[5].set_xlabel('Housing Loan')\n",
        "    axes[5].set_ylabel('Number of Customers')\n",
        "    axes[5].tick_params(axis='x', rotation=0)\n",
        "    axes[5].legend(title='Personal Loan')\n",
        "    axes[5].grid(axis='y', linestyle='--', alpha=0.6)\n",
        "\n",
        "    # 6. Contact Method Distribution\n",
        "    contact_counts = monthly_data['contact'].value_counts()\n",
        "    sns.barplot(ax=axes[6], x=contact_counts.index, y=contact_counts.values, color=color)\n",
        "    axes[6].set_title(f'{month} Contact Method Distribution', fontsize=14, fontweight='bold')\n",
        "    axes[6].set_xlabel('Contact Method')\n",
        "    axes[6].set_ylabel('Number of Customers')\n",
        "    axes[6].grid(axis='y', linestyle='--', alpha=0.6)\n",
        "\n",
        "    # 7. Day of the Week Distribution\n",
        "    dow_counts = monthly_data['day_of_week'].value_counts().sort_index()\n",
        "    sns.barplot(ax=axes[7], x=dow_counts.index, y=dow_counts.values, color=color)\n",
        "    axes[7].set_title(f'{month} Day of the Week of Contact', fontsize=14, fontweight='bold')\n",
        "    axes[7].set_xlabel('Day of the Week')\n",
        "    axes[7].set_ylabel('Number of Contacts')\n",
        "    axes[7].grid(axis='y', linestyle='--', alpha=0.6)\n",
        "\n",
        "    # 8. Duration of Calls Distribution\n",
        "    sns.histplot(ax=axes[8], data=monthly_data, x='duration', bins=50, kde=True, color=color)\n",
        "    axes[8].set_title(f'{month} Call Duration Distribution', fontsize=14, fontweight='bold')\n",
        "    axes[8].set_xlabel('Call Duration (seconds)')\n",
        "    axes[8].set_ylabel('Number of Calls')\n",
        "    axes[8].grid(True, linestyle='--', alpha=0.6)\n",
        "\n",
        "    # 9. Campaign Interactions Distribution\n",
        "    sns.histplot(ax=axes[9], data=monthly_data, x='campaign', bins=20, kde=True, color=color)\n",
        "    axes[9].set_title(f'{month} Campaign Interactions', fontsize=14, fontweight='bold')\n",
        "    axes[9].set_xlabel('Number of Campaign Contacts')\n",
        "    axes[9].set_ylabel('Number of Customers')\n",
        "    axes[9].grid(True, linestyle='--', alpha=0.6)\n",
        "\n",
        "    # 10. Previous Contacts Outcome\n",
        "    poutcome_counts = monthly_data['poutcome'].value_counts()\n",
        "    sns.barplot(ax=axes[10], x=poutcome_counts.index, y=poutcome_counts.values, color=color)\n",
        "    axes[10].set_title(f'{month} Previous Campaign Outcome', fontsize=14, fontweight='bold')\n",
        "    axes[10].set_xlabel('Previous Outcome')\n",
        "    axes[10].set_ylabel('Number of Customers')\n",
        "    axes[10].grid(axis='y', linestyle='--', alpha=0.6)\n",
        "\n",
        "    plt.tight_layout()\n",
        "    plt.show()\n",
        "\n",
        "    # --- Interactive Visualizations with Plotly ---\n",
        "    # 1. Age Distribution (Interactive Histogram)\n",
        "    fig_hist_age = go.Figure(data=[go.Histogram(x=monthly_data['age'], nbinsx=30, marker_color=color)])\n",
        "    fig_hist_age.update_layout(\n",
        "        title=f'{month} Age Distribution',\n",
        "        xaxis_title='Age',\n",
        "        yaxis_title='Number of Customers',\n",
        "        template='plotly_white'\n",
        "    )\n",
        "    fig_hist_age.show()\n",
        "\n",
        "    # 2. Marital Status Distribution (Interactive Pie Chart)\n",
        "    fig_pie_marital = go.Figure(data=[go.Pie(labels=marital_counts.index, values=marital_counts.values, marker_colors=sns.color_palette(n_colors=len(marital_counts)))])\n",
        "    fig_pie_marital.update_layout(\n",
        "        title=f'{month} Marital Status Distribution',\n",
        "        template='plotly_white'\n",
        "    )\n",
        "    fig_pie_marital.show()\n",
        "\n",
        "    # 3. Education Level Distribution (Interactive Bar Chart)\n",
        "    fig_bar_edu = go.Figure(data=[go.Bar(x=education_counts.index, y=education_counts.values, marker_color=color)])\n",
        "    fig_bar_edu.update_layout(\n",
        "        title=f'{month} Education Level Distribution',\n",
        "        xaxis_title='Education Level',\n",
        "        yaxis_title='Number of Customers',\n",
        "        template='plotly_white'\n",
        "    )\n",
        "    fig_bar_edu.show()\n",
        "\n",
        "    # 4. Balance Distribution (Interactive Histogram)\n",
        "    fig_hist_balance = go.Figure(data=[go.Histogram(x=monthly_data['balance'], nbinsx=50, marker_color=color)])\n",
        "    fig_hist_balance.update_layout(\n",
        "        title=f'{month} Balance Distribution',\n",
        "        xaxis_title='Account Balance',\n",
        "        yaxis_title='Number of Customers',\n",
        "        template='plotly_white'\n",
        "    )\n",
        "    fig_hist_balance.show()\n",
        "\n",
        "    # 5. Housing Loan vs Personal Loan (Interactive Grouped Bar Chart)\n",
        "    fig_bar_loan = go.Figure(data=[\n",
        "        go.Bar(name='No Loan', x=loan_housing.index, y=loan_housing.get(('no', 'no'), [0]*len(loan_housing.index)) + loan_housing.get(('yes', 'no'), [0]*len(loan_housing.index)), marker_color=sns.color_palette()[0]),\n",
        "        go.Bar(name='Personal Loan', x=loan_housing.index, y=loan_housing.get(('no', 'yes'), [0]*len(loan_housing.index)) + loan_housing.get(('yes', 'yes'), [0]*len(loan_housing.index)), marker_color=sns.color_palette()[1])\n",
        "    ])\n",
        "    fig_bar_loan.update_layout(\n",
        "        title=f'{month} Housing Loan vs Personal Loan',\n",
        "        xaxis_title='Has Housing Loan?',\n",
        "        yaxis_title='Number of Customers',\n",
        "        barmode='group',\n",
        "        template='plotly_white'\n",
        "    )\n",
        "    fig_bar_loan.show()\n",
        "\n",
        "    # 6. Contact Method Distribution (Interactive Bar Chart)\n",
        "    fig_bar_contact = go.Figure(data=[go.Bar(x=contact_counts.index, y=contact_counts.values, marker_color=color)])\n",
        "    fig_bar_contact.update_layout(\n",
        "        title=f'{month} Contact Method Distribution',\n",
        "        xaxis_title='Contact Method',\n",
        "        yaxis_title='Number of Customers',\n",
        "        template='plotly_white'\n",
        "    )\n",
        "    fig_bar_contact.show()\n",
        "\n",
        "    # 7. Day of the Week of Contact (Interactive Bar Chart)\n",
        "    fig_bar_dow = go.Figure(data=[go.Bar(x=dow_counts.index.map({1: 'Mon', 2: 'Tue', 3: 'Wed', 4: 'Thu', 5: 'Fri'}), y=dow_counts.values, marker_color=color)])\n",
        "    fig_bar_dow.update_layout(\n",
        "        title=f'{month} Day of the Week of Contact',\n",
        "        xaxis_title='Day of the Week',\n",
        "        yaxis_title='Number of Contacts',\n",
        "        template='plotly_white'\n",
        "    )\n",
        "    fig_bar_dow.show()\n",
        "\n",
        "    # 8. Call Duration Distribution (Interactive Histogram)\n",
        "    fig_hist_duration = go.Figure(data=[go.Histogram(x=monthly_data['duration'], nbinsx=50, marker_color=color)])\n",
        "    fig_hist_duration.update_layout(\n",
        "        title=f'{month} Call Duration Distribution',\n",
        "        xaxis_title='Call Duration (seconds)',\n",
        "        yaxis_title='Number of Calls',\n",
        "        template='plotly_white'\n",
        "    )\n",
        "    fig_hist_duration.show()\n",
        "\n",
        "    # 9. Campaign Interactions (Interactive Histogram)\n",
        "    fig_hist_campaign = go.Figure(data=[go.Histogram(x=monthly_data['campaign'], nbinsx=20, marker_color=color)])\n",
        "    fig_hist_campaign.update_layout(\n",
        "        title=f'{month} Campaign Interactions',\n",
        "        xaxis_title='Number of Campaign Contacts',\n",
        "        yaxis_title='Number of Customers',\n",
        "        template='plotly_white'\n",
        "    )\n",
        "    fig_hist_campaign.show()\n",
        "\n",
        "    # 10. Previous Campaign Outcome (Interactive Bar Chart)\n",
        "    fig_bar_poutcome = go.Figure(data=[go.Bar(x=poutcome_counts.index, y=poutcome_counts.values, marker_color=color)])\n",
        "    fig_bar_poutcome.update_layout(\n",
        "        title=f'{month} Previous Campaign Outcome',\n",
        "        xaxis_title='Previous Outcome',\n",
        "        yaxis_title='Number of Customers',\n",
        "        template='plotly_white'\n",
        "    )\n",
        "    fig_bar_poutcome.show()\n",
        "\n",
        "# First, let's see the columns to identify the month column\n",
        "print(data.columns)\n",
        "\n",
        "# Call the function\n",
        "analyze_month_adapted(data, 'may', 'skyblue', month_column='month')"
      ],
      "metadata": {
        "id": "qRn_aFlpGzQg"
      },
      "execution_count": null,
      "outputs": []
    }
  ]
}