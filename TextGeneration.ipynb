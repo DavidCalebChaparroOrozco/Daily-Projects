{
  "nbformat": 4,
  "nbformat_minor": 0,
  "metadata": {
    "colab": {
      "private_outputs": true,
      "provenance": []
    },
    "kernelspec": {
      "name": "python3",
      "display_name": "Python 3"
    },
    "language_info": {
      "name": "python"
    }
  },
  "cells": [
    {
      "cell_type": "code",
      "execution_count": null,
      "metadata": {
        "id": "mqmqq5bGfB8y"
      },
      "outputs": [],
      "source": [
        "# Import necessary libraries\n",
        "import torch\n",
        "from transformers import GPT2LMHeadModel, GPT2Tokenizer"
      ]
    },
    {
      "cell_type": "code",
      "source": [
        "# Set the device to GPU if available, otherwise use CPU\n",
        "device = torch.device(\"cuda\" if torch.cuda.is_available() else \"cpu\")\n",
        "\n",
        "# Load the pre-trained GPT-2 model and tokenizer\n",
        "model_name = \"gpt2\"\n",
        "tokenizer = GPT2Tokenizer.from_pretrained(model_name)\n",
        "model = GPT2LMHeadModel.from_pretrained(model_name).to(device)"
      ],
      "metadata": {
        "id": "A2L7g1SIgSg-"
      },
      "execution_count": null,
      "outputs": []
    },
    {
      "cell_type": "markdown",
      "source": [
        "# Function to generate text based on a given prompt"
      ],
      "metadata": {
        "id": "MfMsHzYGhPeT"
      }
    },
    {
      "cell_type": "code",
      "source": [
        "# Generates text using the GPT-2 model.\n",
        "def generate_text(prompt, max_length=100, temperature=0.7, top_k=50):\n",
        "    \"\"\"\n",
        "    Args:\n",
        "        prompt: The initial text to start generation.\n",
        "        max_length: Maximum length of the generated text.\n",
        "        temperature: Controls randomness in predictions by scaling the logits.\n",
        "        top_k: Limits the sampling pool to the top k tokens.\n",
        "    Returns:\n",
        "        str: The generated text.\n",
        "    \"\"\"\n",
        "    # Encode the input prompt into token IDs\n",
        "    input_ids = tokenizer.encode(prompt, return_tensors=\"pt\").to(device)\n",
        "\n",
        "    # Generate text using the model\n",
        "\n",
        "    # Disable gradient calculation for inference\n",
        "    with torch.no_grad():\n",
        "        output = model.generate(\n",
        "            input_ids,\n",
        "            max_length=max_length,\n",
        "            temperature=temperature,\n",
        "            top_k=top_k,\n",
        "            do_sample=True,\n",
        "            pad_token_id=tokenizer.eos_token_id\n",
        "        )\n",
        "\n",
        "    # Decode the generated token IDs back into text\n",
        "    generated_text = tokenizer.decode(output[0], skip_special_tokens=True)\n",
        "\n",
        "    return generated_text"
      ],
      "metadata": {
        "id": "SVcl13COhNzT"
      },
      "execution_count": null,
      "outputs": []
    },
    {
      "cell_type": "code",
      "source": [
        "# Main function to run the text generation\n",
        "if __name__ == \"__main__\":\n",
        "    # Define the prompt for text generation\n",
        "    prompt = \"The IoT will a way\"\n",
        "\n",
        "    # Generate text based on the prompt\n",
        "    generated_text = generate_text(prompt, max_length=150, temperature=0.8, top_k=50)\n",
        "\n",
        "    # Print the generated text\n",
        "    print(\"Generated Text:\")\n",
        "    print(generated_text)"
      ],
      "metadata": {
        "id": "92842fpznDmn"
      },
      "execution_count": null,
      "outputs": []
    },
    {
      "cell_type": "markdown",
      "source": [
        "- James Rodriguez soccer player\n",
        "- Linkedin is a platform\n",
        "- Python is a good tool\n",
        "- The IoT will a way"
      ],
      "metadata": {
        "id": "bKn1Y19-nI5v"
      }
    }
  ]
}