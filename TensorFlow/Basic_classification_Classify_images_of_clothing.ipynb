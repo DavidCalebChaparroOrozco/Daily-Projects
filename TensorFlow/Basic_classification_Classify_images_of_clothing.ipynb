{
  "nbformat": 4,
  "nbformat_minor": 0,
  "metadata": {
    "colab": {
      "private_outputs": true,
      "provenance": []
    },
    "kernelspec": {
      "name": "python3",
      "display_name": "Python 3"
    },
    "language_info": {
      "name": "python"
    }
  },
  "cells": [
    {
      "cell_type": "code",
      "execution_count": null,
      "metadata": {
        "id": "_Rf3S6WG4s3R"
      },
      "outputs": [],
      "source": [
        "# Import necessary libraries\n",
        "import tensorflow as tf\n",
        "import numpy as np\n",
        "import matplotlib.pyplot as plt\n",
        "print(tf.__version__)"
      ]
    },
    {
      "cell_type": "code",
      "source": [
        "# Load Fashion MNIST dataset\n",
        "data = tf.keras.datasets.fashion_mnist\n",
        "\n",
        "# Load and unpack the data into training and testing sets\n",
        "(train_images, train_labels), (test_images, test_labels) = data.load_data()"
      ],
      "metadata": {
        "id": "ALfW9bzg5x0X"
      },
      "execution_count": null,
      "outputs": []
    },
    {
      "cell_type": "markdown",
      "source": [
        "__Class of clothing the image represents:__\n",
        "\n",
        "| **Label** |   **Class**   |\n",
        "|-----------|:-------------:|\n",
        "| 0         | T-shirt / Top |\n",
        "| 1         | Trouser       |\n",
        "| 2         | Pullover      |\n",
        "| 3         | Dress         |\n",
        "| 4         | Coat          |\n",
        "| 5         | Sandal        |\n",
        "| 6         | Shirt         |\n",
        "| 7         | Sneaker       |\n",
        "| 8         | Bag           |\n",
        "| 9         | Ankle boot    |"
      ],
      "metadata": {
        "id": "ng1j1nMz6TiV"
      }
    },
    {
      "cell_type": "code",
      "source": [
        "# Define class names for labeling the dataset\n",
        "class_names = ['T-shirt/top', 'Trouser', 'Pullover', 'Dress', 'Coat',\n",
        "               'Sandal', 'Shirt', 'Sneaker', 'Bag', 'Ankle boot']"
      ],
      "metadata": {
        "id": "AsknTlR86ALu"
      },
      "execution_count": null,
      "outputs": []
    },
    {
      "cell_type": "markdown",
      "source": [
        "# Explore the data"
      ],
      "metadata": {
        "id": "AyVOpDhY7Mva"
      }
    },
    {
      "cell_type": "code",
      "source": [
        "# Display the shape of training images\n",
        "train_images.shape"
      ],
      "metadata": {
        "id": "BQY-1NL47K8C"
      },
      "execution_count": null,
      "outputs": []
    },
    {
      "cell_type": "code",
      "source": [
        "# Display the length of training labels\n",
        "print(f\"Len train labels: {len(train_labels)}\")"
      ],
      "metadata": {
        "id": "PgVZrWKu7dYR"
      },
      "execution_count": null,
      "outputs": []
    },
    {
      "cell_type": "code",
      "source": [
        "# Display training labels\n",
        "train_labels"
      ],
      "metadata": {
        "id": "IcAaQStR7qN4"
      },
      "execution_count": null,
      "outputs": []
    },
    {
      "cell_type": "code",
      "source": [
        "# Display the shape of testing images\n",
        "test_images.shape"
      ],
      "metadata": {
        "id": "fSxloGXf7uq6"
      },
      "execution_count": null,
      "outputs": []
    },
    {
      "cell_type": "code",
      "source": [
        "# Display the length of testing images\n",
        "print(f\"Len train labels: {len(test_images)}\")"
      ],
      "metadata": {
        "id": "B1P57glS70OQ"
      },
      "execution_count": null,
      "outputs": []
    },
    {
      "cell_type": "markdown",
      "source": [
        "# Preprocess the data"
      ],
      "metadata": {
        "id": "n9AALDyj75hX"
      }
    },
    {
      "cell_type": "code",
      "source": [
        "# Display the first image in the training set\n",
        "plt.figure()\n",
        "plt.imshow(train_images[0])\n",
        "plt.colorbar()\n",
        "plt.grid(False)\n",
        "plt.show()"
      ],
      "metadata": {
        "id": "rDyIieHc78c3"
      },
      "execution_count": null,
      "outputs": []
    },
    {
      "cell_type": "code",
      "source": [
        "# Normalize pixel values to range between 0 and 1\n",
        "train_images = train_images / 255.0\n",
        "print(f\"Train Images: {train_images}\")\n",
        "test_images = test_images / 255.0\n",
        "print(f\"Test Images: {test_images}\")"
      ],
      "metadata": {
        "id": "fwywTemg8H8v"
      },
      "execution_count": null,
      "outputs": []
    },
    {
      "cell_type": "code",
      "source": [
        "# Display a grid of images from the training set with their corresponding labels\n",
        "plt.figure(figsize=(10,10))\n",
        "for i in range(25):\n",
        "    plt.subplot(5,5,i+1)\n",
        "    plt.xticks([])\n",
        "    plt.yticks([])\n",
        "    plt.grid(False)\n",
        "    plt.imshow(train_images[i], cmap=plt.cm.binary)\n",
        "    plt.xlabel(class_names[train_labels[i]])\n",
        "plt.show()"
      ],
      "metadata": {
        "id": "tFNPjtqw8gIF"
      },
      "execution_count": null,
      "outputs": []
    },
    {
      "cell_type": "markdown",
      "source": [
        "# Build the model"
      ],
      "metadata": {
        "id": "RrNq3InT8t9F"
      }
    },
    {
      "cell_type": "code",
      "source": [
        "# Define the neural network model architecture\n",
        "model = tf.keras.Sequential([\n",
        "    # Flatten: 2D images to 1D array\n",
        "    tf.keras.layers.Flatten(input_shape=(28, 28)),\n",
        "    # Dense layer with 128 neurons, ReLU activation\n",
        "    tf.keras.layers.Dense(128, activation='relu'),\n",
        "    # Output layer with 10 neurons (one for each class)\n",
        "    tf.keras.layers.Dense(10)\n",
        "])"
      ],
      "metadata": {
        "id": "IsINUJP98r0m"
      },
      "execution_count": null,
      "outputs": []
    },
    {
      "cell_type": "markdown",
      "source": [
        "# Compile the model\n",
        "These are added during the model's compile step:\n",
        "* __Optimizer:__ This is how the model is updated based on the data it sees and its loss function.\n",
        "* __Loss function:__ This measures how accurate the model is during training. You want to minimize this function to \"steer\" the model in the right direction.\n",
        "* __Metrics:__ Used to monitor the training and testing steps. The following example uses accuracy, the fraction of the images that are correctly classified.\n"
      ],
      "metadata": {
        "id": "UGt2uKKz9j7D"
      }
    },
    {
      "cell_type": "code",
      "source": [
        "# Compile the model with optimizer, loss function, and evaluation metrics\n",
        "model.compile(optimizer='adam',\n",
        "              loss=tf.keras.losses.SparseCategoricalCrossentropy(from_logits=True),\n",
        "              metrics=['accuracy'])"
      ],
      "metadata": {
        "id": "-MqK55v99EHc"
      },
      "execution_count": null,
      "outputs": []
    },
    {
      "cell_type": "markdown",
      "source": [
        "## Train the model"
      ],
      "metadata": {
        "id": "UxYT1E5s-ALw"
      }
    },
    {
      "cell_type": "code",
      "source": [
        "# Train the model on the training data for 10 epochs\n",
        "model.fit(train_images, train_labels, epochs=10)"
      ],
      "metadata": {
        "id": "8P3p96P3-C2Q"
      },
      "execution_count": null,
      "outputs": []
    },
    {
      "cell_type": "markdown",
      "source": [
        "__This model reaches an accuracy of about 0.91 (or 91%) on the training data.__"
      ],
      "metadata": {
        "id": "Ts_ZIKHd-SOQ"
      }
    },
    {
      "cell_type": "markdown",
      "source": [
        "## Evaluate accuracy"
      ],
      "metadata": {
        "id": "1jvahL5a-N5I"
      }
    },
    {
      "cell_type": "markdown",
      "source": [
        "Model performs on the test dataset:"
      ],
      "metadata": {
        "id": "SZz3PkuZ-jXP"
      }
    },
    {
      "cell_type": "code",
      "source": [
        "# Evaluate the model's performance on the test data\n",
        "test_loss, test_acc = model.evaluate(test_images,  test_labels, verbose=2)\n",
        "print('\\nTest accuracy:', test_acc)"
      ],
      "metadata": {
        "id": "VsQVMxJk-Row"
      },
      "execution_count": null,
      "outputs": []
    },
    {
      "cell_type": "markdown",
      "source": [
        "This gap between training accuracy and test accuracy represents __overfitting.__"
      ],
      "metadata": {
        "id": "1INrLOZv_F9N"
      }
    },
    {
      "cell_type": "markdown",
      "source": [
        "## Make predictions"
      ],
      "metadata": {
        "id": "TeLKkmkw_Cs9"
      }
    },
    {
      "cell_type": "markdown",
      "source": [
        "With a trained model, you can  make predictions about certain images. Add a softmax layer to transform the output curve model (logits) into a probable, easy-to-interpret model."
      ],
      "metadata": {
        "id": "JE_lNnON_R7M"
      }
    },
    {
      "cell_type": "code",
      "source": [
        "# Create a probability model by adding a softmax layer to the existing model\n",
        "probability_model = tf.keras.Sequential([model,\n",
        "                                         tf.keras.layers.Softmax()])"
      ],
      "metadata": {
        "id": "ijuIcAHJ-mVH"
      },
      "execution_count": null,
      "outputs": []
    },
    {
      "cell_type": "code",
      "source": [
        "# Make predictions on the test images\n",
        "predictions = probability_model.predict(test_images)"
      ],
      "metadata": {
        "id": "f9csPHax_8Nz"
      },
      "execution_count": null,
      "outputs": []
    },
    {
      "cell_type": "code",
      "source": [
        "# Display predictions for the first test image\n",
        "predictions[0]"
      ],
      "metadata": {
        "id": "bp-1IiL-ACZS"
      },
      "execution_count": null,
      "outputs": []
    },
    {
      "cell_type": "code",
      "source": [
        "# Display the predicted label for the first test image\n",
        "np.argmax(predictions[0])"
      ],
      "metadata": {
        "id": "FN68kvbmASpx"
      },
      "execution_count": null,
      "outputs": []
    },
    {
      "cell_type": "markdown",
      "source": [
        "_The model is most confident that this image is an ankle boot_"
      ],
      "metadata": {
        "id": "5urO4MyLAZkZ"
      }
    },
    {
      "cell_type": "code",
      "source": [
        "# Display the true label for the first test image\n",
        "test_labels[0]"
      ],
      "metadata": {
        "id": "OIecuxAxAe_x"
      },
      "execution_count": null,
      "outputs": []
    },
    {
      "cell_type": "code",
      "source": [
        "# Define functions for plotting images\n",
        "def plot_image(i, predictions_array, true_label, img):\n",
        "    true_label, img = true_label[i], img[i]\n",
        "    plt.grid(False)\n",
        "    plt.xticks([])\n",
        "    plt.yticks([])\n",
        "    plt.imshow(img, cmap = plt.cm.binary)\n",
        "\n",
        "    predicted_label = np.argmax(predictions_array)\n",
        "    if predicted_label == true_label:\n",
        "        color = 'blue'\n",
        "    else:\n",
        "        color = 'red'\n",
        "\n",
        "    plt.xlabel(\"{} {:2.0f}% ({})\".format(class_names[predicted_label],\n",
        "                                        100*np.max(predictions_array),\n",
        "                                        class_names[true_label]),\n",
        "                                        color=color)"
      ],
      "metadata": {
        "id": "oM1fx3gnAl2Y"
      },
      "execution_count": null,
      "outputs": []
    },
    {
      "cell_type": "code",
      "source": [
        "# Define functions for their predicted values\n",
        "def plot_value_array(i, predictions_array, true_label):\n",
        "    true_label = true_label[i]\n",
        "    plt.grid(False)\n",
        "    plt.xticks(range(10))\n",
        "    plt.yticks([])\n",
        "    thisplot = plt.bar(range(10), predictions_array, color=\"#777777\")\n",
        "    plt.ylim([0, 1])\n",
        "    predicted_label = np.argmax(predictions_array)\n",
        "\n",
        "    thisplot[predicted_label].set_color(\"red\")\n",
        "    thisplot[true_label].set_color(\"blue\")"
      ],
      "metadata": {
        "id": "M9zNBo-0BZTW"
      },
      "execution_count": null,
      "outputs": []
    },
    {
      "cell_type": "markdown",
      "source": [
        "## Verify predictions"
      ],
      "metadata": {
        "id": "epQe27d5CCrr"
      }
    },
    {
      "cell_type": "markdown",
      "source": [
        "With a trained model, you can  make predictions about certain images.\n",
        "\n",
        "Let's look at Figure 0, predictions and prediction methods. Good prediction labels are blue, bad prediction labels are red. The number represents the percentage of the predicted score (out of 100)."
      ],
      "metadata": {
        "id": "OYlp2v2CCeRi"
      }
    },
    {
      "cell_type": "code",
      "source": [
        "# Plot images and their predicted values for certain indices\n",
        "i = 0\n",
        "plt.figure(figsize=(6,3))\n",
        "plt.subplot(1,2,1)\n",
        "plot_image(i, predictions[i], test_labels, test_images)\n",
        "plt.subplot(1,2,2)\n",
        "plot_value_array(i, predictions[i],  test_labels)\n",
        "plt.show()"
      ],
      "metadata": {
        "id": "j98Vp_CyCCAD"
      },
      "execution_count": null,
      "outputs": []
    },
    {
      "cell_type": "code",
      "source": [
        "i = 12\n",
        "plt.figure(figsize=(6,3))\n",
        "plt.subplot(1,2,1)\n",
        "plot_image(i, predictions[i], test_labels, test_images)\n",
        "plt.subplot(1,2,2)\n",
        "plot_value_array(i, predictions[i],  test_labels)\n",
        "plt.show()"
      ],
      "metadata": {
        "id": "EcQiJhN8CXrK"
      },
      "execution_count": null,
      "outputs": []
    },
    {
      "cell_type": "code",
      "source": [
        "# Plot the first X test images, their predicted labels, and the true labels.\n",
        "# Color correct predictions in blue and incorrect predictions in red.\n",
        "\n",
        "num_rows = 5\n",
        "num_cols = 3\n",
        "num_images = num_rows*num_cols\n",
        "plt.figure(figsize=(2*2*num_cols, 2*num_rows))\n",
        "for i in range(num_images):\n",
        "    plt.subplot(num_rows, 2*num_cols, 2*i+1)\n",
        "    plot_image(i, predictions[i], test_labels, test_images)\n",
        "    plt.subplot(num_rows, 2*num_cols, 2*i+2)\n",
        "    plot_value_array(i, predictions[i], test_labels)\n",
        "plt.tight_layout()\n",
        "plt.show()"
      ],
      "metadata": {
        "id": "6L_XLpwmC0VE"
      },
      "execution_count": null,
      "outputs": []
    },
    {
      "cell_type": "markdown",
      "source": [
        "## Use the trained model\n",
        "Finally, use the trained model to make a prediction about a single image."
      ],
      "metadata": {
        "id": "bAB7vU6ED6ne"
      }
    },
    {
      "cell_type": "code",
      "source": [
        "# Select a single image from the test set\n",
        "img = test_images[1]\n",
        "print(img.shape)"
      ],
      "metadata": {
        "id": "-QEoDj7lEAft"
      },
      "execution_count": null,
      "outputs": []
    },
    {
      "cell_type": "code",
      "source": [
        "# Add a dimension to match model's input shape\n",
        "img = (np.expand_dims(img, 0))\n",
        "print(img.shape)"
      ],
      "metadata": {
        "id": "YVa_bdTnEFIt"
      },
      "execution_count": null,
      "outputs": []
    },
    {
      "cell_type": "code",
      "source": [
        "# Make predictions on the single image\n",
        "predictions_single = probability_model.predict(img)\n",
        "print(predictions_single)"
      ],
      "metadata": {
        "id": "TiG0Z_TmERq8"
      },
      "execution_count": null,
      "outputs": []
    },
    {
      "cell_type": "code",
      "source": [
        "# Plot the predicted values\n",
        "plot_value_array(1, predictions_single[0], test_labels)\n",
        "_ = plt.xticks(range(10), class_names, rotation=45)\n",
        "plt.show()"
      ],
      "metadata": {
        "id": "IArrx3rVEV6u"
      },
      "execution_count": null,
      "outputs": []
    },
    {
      "cell_type": "code",
      "source": [
        "# Display the predicted label for the single image\n",
        "np.argmax(predictions_single[0])"
      ],
      "metadata": {
        "id": "ewXkD05uEcdM"
      },
      "execution_count": null,
      "outputs": []
    }
  ]
}